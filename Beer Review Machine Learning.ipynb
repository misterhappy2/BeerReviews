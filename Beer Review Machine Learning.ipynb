{
 "cells": [
  {
   "cell_type": "markdown",
   "metadata": {},
   "source": [
    "### MACHINE LEARNING \n",
    "#### The baseline model is set, I'll try to improve the model.  I'll eliminate imbalance, use feature engineering, tune the algorithm, and try different algorithms.  <br>  Here's the baseline for three classes of beer styles:\n",
    "              precision    recall  f1-score   support\n",
    "\n",
    "         IPA       0.84      0.61      0.71      2664\n",
    "       Other       0.87      0.94      0.90     10883\n",
    "       Stout       0.68      0.55      0.61      1196\n",
    "\n",
    "   micro avg       0.85      0.85      0.85     14743\n",
    "   macro avg       0.80      0.70      0.74     14743\n",
    "weighted avg       0.85      0.85      0.84     14743"
   ]
  },
  {
   "cell_type": "code",
   "execution_count": 2,
   "metadata": {},
   "outputs": [
    {
     "name": "stdout",
     "output_type": "stream",
     "text": [
      "length 80818\n"
     ]
    },
    {
     "data": {
      "text/html": [
       "<div>\n",
       "<style>\n",
       "    .dataframe thead tr:only-child th {\n",
       "        text-align: right;\n",
       "    }\n",
       "\n",
       "    .dataframe thead th {\n",
       "        text-align: left;\n",
       "    }\n",
       "\n",
       "    .dataframe tbody tr th {\n",
       "        vertical-align: top;\n",
       "    }\n",
       "</style>\n",
       "<table border=\"1\" class=\"dataframe\">\n",
       "  <thead>\n",
       "    <tr style=\"text-align: right;\">\n",
       "      <th></th>\n",
       "      <th>name</th>\n",
       "      <th>brewery</th>\n",
       "      <th>style</th>\n",
       "      <th>rating</th>\n",
       "      <th>review</th>\n",
       "    </tr>\n",
       "  </thead>\n",
       "  <tbody>\n",
       "    <tr>\n",
       "      <th>0</th>\n",
       "      <td>Big Rock Ale</td>\n",
       "      <td>Big Rock Brewery</td>\n",
       "      <td>Scottish Ale</td>\n",
       "      <td>3.90</td>\n",
       "      <td>smell  soft hop aroma with significant malt scents. this one smells very creamy. taste  and creamy it is. the traditional irish flavors come out at the tongue. this is creamy, not like a cream ale, but close. the m...</td>\n",
       "    </tr>\n",
       "    <tr>\n",
       "      <th>1</th>\n",
       "      <td>Flip Ale</td>\n",
       "      <td>Dogfish Head Craft Brewery</td>\n",
       "      <td>Old Ale</td>\n",
       "      <td>4.08</td>\n",
       "      <td>on tap at dfh rehoboth... collab with eatily... cardamom and red wine must. golden orange. .no head. typical dfh yeast aroma. ..some spice and maybe a belgian influence. sweet spicy and somewhat fruity.. not much ol...</td>\n",
       "    </tr>\n",
       "    <tr>\n",
       "      <th>2</th>\n",
       "      <td>The Almond Marzen Project - Beer Camp #26</td>\n",
       "      <td>Sierra Nevada Brewing Co.</td>\n",
       "      <td>Märzen / Oktoberfest</td>\n",
       "      <td>3.78</td>\n",
       "      <td>nice auburn impressions, tons of clarity, solid inch of off white head.   aroma was a little bit sweet and nutty. taste gave a little more sweetness, stayed away from hops and bitterness, relatively light bodied.  no...</td>\n",
       "    </tr>\n",
       "  </tbody>\n",
       "</table>\n",
       "</div>"
      ],
      "text/plain": [
       "                                        name                     brewery  \\\n",
       "0                               Big Rock Ale            Big Rock Brewery   \n",
       "1                                   Flip Ale  Dogfish Head Craft Brewery   \n",
       "2  The Almond Marzen Project - Beer Camp #26   Sierra Nevada Brewing Co.   \n",
       "\n",
       "                  style  rating  \\\n",
       "0          Scottish Ale    3.90   \n",
       "1               Old Ale    4.08   \n",
       "2  Märzen / Oktoberfest    3.78   \n",
       "\n",
       "                                                                                                                                                                                                                        review  \n",
       "0  smell  soft hop aroma with significant malt scents. this one smells very creamy. taste  and creamy it is. the traditional irish flavors come out at the tongue. this is creamy, not like a cream ale, but close. the m...  \n",
       "1   on tap at dfh rehoboth... collab with eatily... cardamom and red wine must. golden orange. .no head. typical dfh yeast aroma. ..some spice and maybe a belgian influence. sweet spicy and somewhat fruity.. not much ol...  \n",
       "2  nice auburn impressions, tons of clarity, solid inch of off white head.   aroma was a little bit sweet and nutty. taste gave a little more sweetness, stayed away from hops and bitterness, relatively light bodied.  no...  "
      ]
     },
     "execution_count": 2,
     "metadata": {},
     "output_type": "execute_result"
    }
   ],
   "source": [
    "# IMPORT MODULES AND THE DATA SET\n",
    "import numpy as np\n",
    "import pandas as pd\n",
    "from sklearn.feature_extraction.text import CountVectorizer\n",
    "from sklearn.feature_extraction.text import TfidfTransformer, TfidfVectorizer\n",
    "import re\n",
    "import nltk\n",
    "from nltk.corpus import stopwords\n",
    "from nltk.stem.porter import PorterStemmer\n",
    "from sklearn.model_selection import train_test_split \n",
    "from sklearn.pipeline import Pipeline\n",
    "from sklearn.naive_bayes import MultinomialNB\n",
    "\n",
    "df = pd.read_csv('beer.csv', header=0)\n",
    "df_copy = df  #save a copy of dataframe for reference. \n",
    "print('length',len(df))\n",
    "pd.set_option('max_colwidth', 220)\n",
    "df.head(3)"
   ]
  },
  {
   "cell_type": "code",
   "execution_count": 34,
   "metadata": {},
   "outputs": [
    {
     "name": "stdout",
     "output_type": "stream",
     "text": [
      "df original length 80818\n",
      "length without short reviews 49141"
     ]
    },
    {
     "name": "stderr",
     "output_type": "stream",
     "text": [
      "/Users/brentmarijensen/anaconda3/lib/python3.6/site-packages/ipykernel_launcher.py:8: SettingWithCopyWarning: \n",
      "A value is trying to be set on a copy of a slice from a DataFrame.\n",
      "Try using .loc[row_indexer,col_indexer] = value instead\n",
      "\n",
      "See the caveats in the documentation: http://pandas.pydata.org/pandas-docs/stable/indexing.html#indexing-view-versus-copy\n",
      "  \n"
     ]
    },
    {
     "name": "stdout",
     "output_type": "stream",
     "text": [
      "\n"
     ]
    },
    {
     "data": {
      "text/html": [
       "<div>\n",
       "<style>\n",
       "    .dataframe thead tr:only-child th {\n",
       "        text-align: right;\n",
       "    }\n",
       "\n",
       "    .dataframe thead th {\n",
       "        text-align: left;\n",
       "    }\n",
       "\n",
       "    .dataframe tbody tr th {\n",
       "        vertical-align: top;\n",
       "    }\n",
       "</style>\n",
       "<table border=\"1\" class=\"dataframe\">\n",
       "  <thead>\n",
       "    <tr style=\"text-align: right;\">\n",
       "      <th></th>\n",
       "      <th>name</th>\n",
       "      <th>brewery</th>\n",
       "      <th>style</th>\n",
       "      <th>rating</th>\n",
       "      <th>review</th>\n",
       "      <th>clean_review</th>\n",
       "    </tr>\n",
       "    <tr>\n",
       "      <th>index</th>\n",
       "      <th></th>\n",
       "      <th></th>\n",
       "      <th></th>\n",
       "      <th></th>\n",
       "      <th></th>\n",
       "      <th></th>\n",
       "    </tr>\n",
       "  </thead>\n",
       "  <tbody>\n",
       "    <tr>\n",
       "      <th>0</th>\n",
       "      <td>Big Rock Ale</td>\n",
       "      <td>Big Rock Brewery</td>\n",
       "      <td>Scottish Ale</td>\n",
       "      <td>3.90</td>\n",
       "      <td>smell  soft hop aroma with significant malt scents. this one smells very creamy. taste  and creamy it is. the traditional irish flavors come out at the tongue. this is creamy, not like a cream ale, but close. the m...</td>\n",
       "      <td>smell soft hop aroma significant malt scents one smells creamy taste creamy traditional irish flavors come tongue creamy like cream ale close malt big buttery smooth hops unique sharp hop flavor easy saturated well m...</td>\n",
       "    </tr>\n",
       "    <tr>\n",
       "      <th>1</th>\n",
       "      <td>Flip Ale</td>\n",
       "      <td>Dogfish Head Craft Brewery</td>\n",
       "      <td>Old Ale</td>\n",
       "      <td>4.08</td>\n",
       "      <td>on tap at dfh rehoboth... collab with eatily... cardamom and red wine must. golden orange. .no head. typical dfh yeast aroma. ..some spice and maybe a belgian influence. sweet spicy and somewhat fruity.. not much ol...</td>\n",
       "      <td>tap dfh rehoboth collab eatily cardamom red wine must golden orange head typical dfh yeast aroma spice maybe belgian influence sweet spicy somewhat fruity much old ale characteristic light still tasty cardamom add ni...</td>\n",
       "    </tr>\n",
       "    <tr>\n",
       "      <th>2</th>\n",
       "      <td>The Almond Marzen Project - Beer Camp #26</td>\n",
       "      <td>Sierra Nevada Brewing Co.</td>\n",
       "      <td>Märzen / Oktoberfest</td>\n",
       "      <td>3.78</td>\n",
       "      <td>nice auburn impressions, tons of clarity, solid inch of off white head.   aroma was a little bit sweet and nutty. taste gave a little more sweetness, stayed away from hops and bitterness, relatively light bodied.  no...</td>\n",
       "      <td>nice auburn impressions tons clarity solid inch white head aroma little bit sweet nutty taste gave little sweetness stayed away hops bitterness relatively light bodied nothing almond came obvious kind fancied oktober...</td>\n",
       "    </tr>\n",
       "  </tbody>\n",
       "</table>\n",
       "</div>"
      ],
      "text/plain": [
       "                                            name                     brewery  \\\n",
       "index                                                                          \n",
       "0                                   Big Rock Ale            Big Rock Brewery   \n",
       "1                                       Flip Ale  Dogfish Head Craft Brewery   \n",
       "2      The Almond Marzen Project - Beer Camp #26   Sierra Nevada Brewing Co.   \n",
       "\n",
       "                      style  rating  \\\n",
       "index                                 \n",
       "0              Scottish Ale    3.90   \n",
       "1                   Old Ale    4.08   \n",
       "2      Märzen / Oktoberfest    3.78   \n",
       "\n",
       "                                                                                                                                                                                                                            review  \\\n",
       "index                                                                                                                                                                                                                                \n",
       "0      smell  soft hop aroma with significant malt scents. this one smells very creamy. taste  and creamy it is. the traditional irish flavors come out at the tongue. this is creamy, not like a cream ale, but close. the m...   \n",
       "1       on tap at dfh rehoboth... collab with eatily... cardamom and red wine must. golden orange. .no head. typical dfh yeast aroma. ..some spice and maybe a belgian influence. sweet spicy and somewhat fruity.. not much ol...   \n",
       "2      nice auburn impressions, tons of clarity, solid inch of off white head.   aroma was a little bit sweet and nutty. taste gave a little more sweetness, stayed away from hops and bitterness, relatively light bodied.  no...   \n",
       "\n",
       "                                                                                                                                                                                                                      clean_review  \n",
       "index                                                                                                                                                                                                                               \n",
       "0      smell soft hop aroma significant malt scents one smells creamy taste creamy traditional irish flavors come tongue creamy like cream ale close malt big buttery smooth hops unique sharp hop flavor easy saturated well m...  \n",
       "1      tap dfh rehoboth collab eatily cardamom red wine must golden orange head typical dfh yeast aroma spice maybe belgian influence sweet spicy somewhat fruity much old ale characteristic light still tasty cardamom add ni...  \n",
       "2      nice auburn impressions tons clarity solid inch white head aroma little bit sweet nutty taste gave little sweetness stayed away hops bitterness relatively light bodied nothing almond came obvious kind fancied oktober...  "
      ]
     },
     "execution_count": 34,
     "metadata": {},
     "output_type": "execute_result"
    }
   ],
   "source": [
    "# DATA PREP\n",
    "print('df original length',len(df))\n",
    "# drop all reviews with < 20 characters\n",
    "df = df[df['review'].map(len) > 20]\n",
    "print('length without short reviews',len(df))\n",
    "\n",
    "# reset dataframe index for the shortened dataframe\n",
    "df['index'] = np.arange(len(df))\n",
    "df = df.set_index('index')\n",
    "\n",
    "# Change review to a string of words.  remove non-letters, make lower case, split into words.  \n",
    "# Remove stopwords (common words.)  Join back together into a long string of words. \n",
    "def review_to_words(review):\n",
    "    letters_only = re.sub('[^a-zA-Z]',' ', review)\n",
    "    words = letters_only.lower().split()\n",
    "    stops = set(stopwords.words('english'))  \n",
    "    good_words = [w for w in words if not w in stops]\n",
    "    porter = PorterStemmer()\n",
    "    stemmed = [porter.stem(word) for word in good_words]\n",
    "    return(' '.join(good_words))\n",
    "\n",
    "# clean the reviews\n",
    "df['clean_review'] = df['review'].apply(review_to_words)\n",
    "\n",
    "df.head(3)"
   ]
  },
  {
   "cell_type": "code",
   "execution_count": 35,
   "metadata": {},
   "outputs": [
    {
     "name": "stdout",
     "output_type": "stream",
     "text": [
      "Number of styles after combining: 3\n"
     ]
    }
   ],
   "source": [
    "# COMBINE SIMILAR STYLES OF BEER, and eliminate the least common styles\n",
    "\n",
    "three_styles = df \n",
    "ipa_list = ['American IPA','English India Pale Ale (IPA)','American Double / Imperial IPA',\n",
    "           'Belgian IPA',]\n",
    "three_styles['style'].replace(ipa_list, 'IPA', inplace=True)\n",
    "stout_list = ['American Stout','English Stout','Milk / Sweet Stout','Oatmeal Stout',\n",
    "             'Imperial Stout','American Double / Imperial Stout', ]\n",
    "three_styles['style'].replace(stout_list, 'Stout', inplace=True)\n",
    "other_list = ['Altbier', 'American Adjunct Lager', 'American Amber / Red Ale',\n",
    "       'American Amber / Red Lager', 'American Barleywine',\n",
    "       'American Black Ale', 'American Blonde Ale', 'American Brown Ale',\n",
    "        'American Double / Imperial Pilsner', 'American Pale Ale (APA)',\n",
    "       'American Pale Lager', 'American Pale Wheat Ale', 'American Porter',\n",
    "        'American Stout', 'American Strong Ale', 'American Wild Ale', \n",
    "       'Baltic Porter', 'Belgian Dark Ale', 'Belgian Pale Ale',\n",
    "       'Belgian Strong Dark Ale', 'Belgian Strong Pale Ale',\n",
    "       'Berliner Weissbier', 'Bière de Garde', 'Bock',\n",
    "       'California Common / Steam Beer', 'Chile Beer', 'Cream Ale',\n",
    "       'Czech Pilsener', 'Doppelbock', 'Dortmunder / Export Lager', 'Dubbel',\n",
    "       'Dunkelweizen', 'English Barleywine', 'English Bitter',\n",
    "       'English Brown Ale', 'English Dark Mild Ale', 'English Pale Ale', \n",
    "        'English Porter', 'English Strong Ale', 'Euro Dark Lager',\n",
    "       'Euro Pale Lager', 'Extra Special / Strong Bitter (ESB)',\n",
    "       'Flanders Oud Bruin', 'Flanders Red Ale', 'Foreign / Export Stout',\n",
    "       'Fruit / Vegetable Beer', 'German Pilsener', 'Gose', 'Hefeweizen',\n",
    "       'Herbed / Spiced Beer', 'Irish Dry Stout', 'Irish Red Ale',\n",
    "       'Kellerbier / Zwickelbier', 'Kölsch', 'Lambic - Fruit', 'Light Lager',\n",
    "       'Maibock / Helles Bock', 'Milk / Sweet Stout', 'Munich Dunkel Lager',\n",
    "       'Munich Helles Lager', 'Märzen / Oktoberfest', 'Old Ale', \n",
    "       'Pumpkin Ale', 'Quadrupel (Quad)', 'Rauchbier',\n",
    "       'Russian Imperial Stout', 'Rye Beer', 'Saison / Farmhouse Ale',\n",
    "       'Schwarzbier', 'Scotch Ale / Wee Heavy', 'Scottish Ale', 'Smoked Beer',\n",
    "       'Tripel', 'Vienna Lager', 'Weizenbock', 'Wheatwine', 'Winter Warmer',\n",
    "       'Witbier','American Dark Wheat Ale', 'American Malt Liquor',\n",
    "       'Bière de Champagne / Bière Brut', 'Black & Tan', 'Braggot', 'Eisbock',\n",
    "       'English Pale Mild Ale', 'Euro Strong Lager', 'Faro', 'Gueuze',\n",
    "       'Happoshu', 'Japanese Rice Lager', 'Kristalweizen', 'Kvass',\n",
    "       'Lambic - Unblended', 'Low Alcohol Beer', 'Roggenbier', 'Sahti',\n",
    "       'Scottish Gruit / Ancient Herbed Ale','American Lager','Barleywine','Bitter',\n",
    "        'Brown Ale', 'Farm Ale','Lager','Pale Ale', 'Porter','Wheat']\n",
    "three_styles['style'].replace(other_list, 'Other', inplace=True)\n",
    "\n",
    "styles = three_styles.groupby(['style']).size() \n",
    "print('Number of styles after combining:', len(styles))"
   ]
  },
  {
   "cell_type": "code",
   "execution_count": 36,
   "metadata": {},
   "outputs": [
    {
     "name": "stdout",
     "output_type": "stream",
     "text": [
      "style\n",
      "IPA       8945\n",
      "Other    36300\n",
      "Stout     3896\n",
      "dtype: int64\n"
     ]
    }
   ],
   "source": [
    "labels = three_styles.groupby(['style']).size() \n",
    "print(labels)"
   ]
  },
  {
   "cell_type": "code",
   "execution_count": 37,
   "metadata": {
    "collapsed": true
   },
   "outputs": [],
   "source": [
    "#pickle the clean data:\n",
    "import pickle\n",
    "filename = '3styles'\n",
    "outfile = open(filename,'wb')\n",
    "pickle.dump(three_styles,outfile)\n",
    "outfile.close()"
   ]
  },
  {
   "cell_type": "code",
   "execution_count": 3,
   "metadata": {},
   "outputs": [],
   "source": [
    "# retrieve the pickled data:\n",
    "import pickle\n",
    "filename = '3styles'\n",
    "infile = open(filename,'rb')\n",
    "three_styles = pickle.load(infile)\n",
    "infile.close()"
   ]
  },
  {
   "cell_type": "code",
   "execution_count": 4,
   "metadata": {
    "collapsed": true
   },
   "outputs": [],
   "source": [
    "# VECTORIZE THE REVIEWS  \n",
    "from sklearn.preprocessing import Normalizer\n",
    "\n",
    "X = three_styles['clean_review'].values\n",
    "y = three_styles['style'].values\n",
    "\n",
    "# vectorize the train data, fit and transform into feature vectors\n",
    "vectorizer = CountVectorizer(analyzer='word')\n",
    "X_counts = vectorizer.fit_transform(X)\n",
    "tfidf = TfidfTransformer()\n",
    "X_train_tfidf = tfidf.fit_transform(X_counts)\n",
    "scaler = Normalizer()\n",
    "X_scaled = scaler.fit_transform(X_train_tfidf)\n",
    "\n",
    "# split into train and test data\n",
    "X_train,X_test,y_train,y_test = train_test_split(X_scaled,y, test_size=0.3, random_state=22)"
   ]
  },
  {
   "cell_type": "code",
   "execution_count": 5,
   "metadata": {},
   "outputs": [
    {
     "name": "stdout",
     "output_type": "stream",
     "text": [
      "              precision    recall  f1-score   support\n",
      "\n",
      "         IPA       0.92      0.79      0.85      6281\n",
      "       Other       0.93      0.97      0.95     25417\n",
      "       Stout       0.83      0.80      0.82      2700\n",
      "\n",
      "   micro avg       0.92      0.92      0.92     34398\n",
      "   macro avg       0.89      0.85      0.87     34398\n",
      "weighted avg       0.92      0.92      0.92     34398\n",
      "\n",
      "              precision    recall  f1-score   support\n",
      "\n",
      "         IPA       0.84      0.61      0.71      2664\n",
      "       Other       0.87      0.94      0.90     10883\n",
      "       Stout       0.68      0.55      0.61      1196\n",
      "\n",
      "   micro avg       0.85      0.85      0.85     14743\n",
      "   macro avg       0.80      0.70      0.74     14743\n",
      "weighted avg       0.85      0.85      0.84     14743\n",
      "\n"
     ]
    }
   ],
   "source": [
    "# NAIVE BAYES PREDICTOR  BASELINE\n",
    "from sklearn.metrics import confusion_matrix, classification_report, f1_score, roc_curve\n",
    "\n",
    "clf = MultinomialNB(alpha = 0.01)\n",
    "clf.fit(X_train, y_train)\n",
    "predicted = clf.predict(X_test)\n",
    "predicted_train = clf.predict(X_train)\n",
    "\n",
    "print(classification_report(y_train, predicted_train))\n",
    "print(classification_report(y_test, predicted))"
   ]
  },
  {
   "cell_type": "markdown",
   "metadata": {},
   "source": [
    "####  Note that Stout is overfitted.  Stout performs better in the training set than the test set.  Perhaps because of the low support number.  I'll address the imbalance with sampling methods.  IPA and Other are not so overfitted.  "
   ]
  },
  {
   "cell_type": "markdown",
   "metadata": {},
   "source": [
    "### Parameter tuning for multnomial Naive Bayes"
   ]
  },
  {
   "cell_type": "code",
   "execution_count": 6,
   "metadata": {},
   "outputs": [
    {
     "name": "stdout",
     "output_type": "stream",
     "text": [
      "{'alpha': 0.01} 0.847781847782\n"
     ]
    }
   ],
   "source": [
    "from sklearn.model_selection import GridSearchCV\n",
    "param_grid = {'alpha': [1,0.1,0.01,0.001,0.0001]}\n",
    "clf = MultinomialNB()\n",
    "clf_cv = GridSearchCV(clf, param_grid, cv = 5)\n",
    "clf_cv.fit(X_train, y_train)\n",
    "print(clf_cv.best_params_,clf_cv.best_score_)"
   ]
  },
  {
   "cell_type": "markdown",
   "metadata": {},
   "source": [
    "#### According to grid search, alpha=0.01 is the best setting.  "
   ]
  },
  {
   "cell_type": "markdown",
   "metadata": {},
   "source": [
    "### Feature engineering\n",
    "#### Now I'll back up and look at the original data.  Perhaps I can engineer some new features.  So far the vectorizer looks at the words in the reviews.  I'll measure review length and average word length, and add that info to the dataframe.  <br>  Also, I can compare using n-grams of 2 or 3 words instead of individual words."
   ]
  },
  {
   "cell_type": "code",
   "execution_count": 7,
   "metadata": {},
   "outputs": [
    {
     "name": "stdout",
     "output_type": "stream",
     "text": [
      "length 80818\n",
      "length without short reviews 49141\n"
     ]
    }
   ],
   "source": [
    "# load the data again\n",
    "df = pd.read_csv('beer.csv', header=0)\n",
    "print('length',len(df))\n",
    "pd.set_option('max_colwidth', 220)\n",
    "\n",
    "# DATA PREP\n",
    "# drop all reviews with < 20 characters\n",
    "df = df[df['review'].map(len) > 20]\n",
    "print('length without short reviews',len(df))\n",
    "# reset dataframe index for the shortened dataframe\n",
    "df['index'] = np.arange(len(df))\n",
    "df = df.set_index('index')\n",
    "\n",
    "# Change review to a string of words.  remove non-letters, make lower case, split into words.  \n",
    "# Remove stopwords (common words.)  Join back together into a long string of words. \n",
    "def review_to_words(review):\n",
    "    letters_only = re.sub('[^a-zA-Z]',' ', review)\n",
    "    words = letters_only.lower().split()\n",
    "    stops = set(stopwords.words('english'))  \n",
    "    good_words = [w for w in words if not w in stops]\n",
    "    porter = PorterStemmer()\n",
    "    stemmed = [porter.stem(word) for word in good_words]\n",
    "    return(' '.join(good_words))\n",
    "\n",
    "# clean the reviews\n",
    "df['clean_review'] = df['review'].apply(review_to_words)"
   ]
  },
  {
   "cell_type": "markdown",
   "metadata": {},
   "source": [
    "#### REVIEW LENGTH, WORD LENGTH:  <br> 1. Measure the length of each review.  Perhaps long reviews reflect different sentiment than short reviews. <br>  2.  Similarly, measure the average word length in each review.  Do reviewers use longer words to describe different beers?  <br> 3. Count number of words.  <br>  4. Count number of exclamation marks.  <br>  "
   ]
  },
  {
   "cell_type": "code",
   "execution_count": 8,
   "metadata": {
    "collapsed": true
   },
   "outputs": [],
   "source": [
    "# review length\n",
    "df['review_length'] = df['clean_review'].apply(len)\n",
    "\n",
    "# average word length\n",
    "def avg_word_len(words):\n",
    "    separate_words = words.split()\n",
    "    count_words = (len(separate_words))    # number of words\n",
    "    if count_words> 0:\n",
    "        characters = len(words)  # length of text\n",
    "        avg = (characters - count_words+1)/count_words\n",
    "    else:\n",
    "        avg = 5.65  # this is the mean of 49000 reviews    \n",
    "    return avg   \n",
    "\n",
    "df['avg_word_length'] = df['clean_review'].apply(avg_word_len)"
   ]
  },
  {
   "cell_type": "code",
   "execution_count": 9,
   "metadata": {},
   "outputs": [
    {
     "name": "stdout",
     "output_type": "stream",
     "text": [
      "mean: 1321.4562585213976\n",
      "max:  14369\n",
      "min:  0\n",
      "\n",
      "mean: 5.684227299077345\n",
      "max:  11.0\n",
      "min:  3.0\n"
     ]
    }
   ],
   "source": [
    "print('mean:',df['review_length'].mean())\n",
    "print('max: ',df['review_length'].max())\n",
    "print('min: ',df['review_length'].min())\n",
    "print('')\n",
    "print('mean:',df['avg_word_length'].mean())\n",
    "print('max: ',df['avg_word_length'].max())\n",
    "print('min: ',df['avg_word_length'].min())"
   ]
  },
  {
   "cell_type": "code",
   "execution_count": 10,
   "metadata": {},
   "outputs": [
    {
     "data": {
      "text/html": [
       "<div>\n",
       "<style>\n",
       "    .dataframe thead tr:only-child th {\n",
       "        text-align: right;\n",
       "    }\n",
       "\n",
       "    .dataframe thead th {\n",
       "        text-align: left;\n",
       "    }\n",
       "\n",
       "    .dataframe tbody tr th {\n",
       "        vertical-align: top;\n",
       "    }\n",
       "</style>\n",
       "<table border=\"1\" class=\"dataframe\">\n",
       "  <thead>\n",
       "    <tr style=\"text-align: right;\">\n",
       "      <th></th>\n",
       "      <th>clean_review</th>\n",
       "      <th>word_count</th>\n",
       "    </tr>\n",
       "    <tr>\n",
       "      <th>index</th>\n",
       "      <th></th>\n",
       "      <th></th>\n",
       "    </tr>\n",
       "  </thead>\n",
       "  <tbody>\n",
       "    <tr>\n",
       "      <th>0</th>\n",
       "      <td>smell soft hop aroma significant malt scents one smells creamy taste creamy traditional irish flavors come tongue creamy like cream ale close malt big buttery smooth hops unique sharp hop flavor easy saturated well m...</td>\n",
       "      <td>70</td>\n",
       "    </tr>\n",
       "    <tr>\n",
       "      <th>1</th>\n",
       "      <td>tap dfh rehoboth collab eatily cardamom red wine must golden orange head typical dfh yeast aroma spice maybe belgian influence sweet spicy somewhat fruity much old ale characteristic light still tasty cardamom add ni...</td>\n",
       "      <td>41</td>\n",
       "    </tr>\n",
       "    <tr>\n",
       "      <th>2</th>\n",
       "      <td>nice auburn impressions tons clarity solid inch white head aroma little bit sweet nutty taste gave little sweetness stayed away hops bitterness relatively light bodied nothing almond came obvious kind fancied oktober...</td>\n",
       "      <td>502</td>\n",
       "    </tr>\n",
       "  </tbody>\n",
       "</table>\n",
       "</div>"
      ],
      "text/plain": [
       "                                                                                                                                                                                                                      clean_review  \\\n",
       "index                                                                                                                                                                                                                                \n",
       "0      smell soft hop aroma significant malt scents one smells creamy taste creamy traditional irish flavors come tongue creamy like cream ale close malt big buttery smooth hops unique sharp hop flavor easy saturated well m...   \n",
       "1      tap dfh rehoboth collab eatily cardamom red wine must golden orange head typical dfh yeast aroma spice maybe belgian influence sweet spicy somewhat fruity much old ale characteristic light still tasty cardamom add ni...   \n",
       "2      nice auburn impressions tons clarity solid inch white head aroma little bit sweet nutty taste gave little sweetness stayed away hops bitterness relatively light bodied nothing almond came obvious kind fancied oktober...   \n",
       "\n",
       "       word_count  \n",
       "index              \n",
       "0              70  \n",
       "1              41  \n",
       "2             502  "
      ]
     },
     "execution_count": 10,
     "metadata": {},
     "output_type": "execute_result"
    }
   ],
   "source": [
    "# WORD COUNT \n",
    "df['word_count'] = df['clean_review'].apply(lambda x: len(str(x).split(\" \")))\n",
    "df[['clean_review','word_count']].head(3)"
   ]
  },
  {
   "cell_type": "code",
   "execution_count": 62,
   "metadata": {},
   "outputs": [
    {
     "data": {
      "text/html": [
       "<div>\n",
       "<style>\n",
       "    .dataframe thead tr:only-child th {\n",
       "        text-align: right;\n",
       "    }\n",
       "\n",
       "    .dataframe thead th {\n",
       "        text-align: left;\n",
       "    }\n",
       "\n",
       "    .dataframe tbody tr th {\n",
       "        vertical-align: top;\n",
       "    }\n",
       "</style>\n",
       "<table border=\"1\" class=\"dataframe\">\n",
       "  <thead>\n",
       "    <tr style=\"text-align: right;\">\n",
       "      <th></th>\n",
       "      <th>review</th>\n",
       "      <th>exclamation</th>\n",
       "    </tr>\n",
       "    <tr>\n",
       "      <th>index</th>\n",
       "      <th></th>\n",
       "      <th></th>\n",
       "    </tr>\n",
       "  </thead>\n",
       "  <tbody>\n",
       "    <tr>\n",
       "      <th>0</th>\n",
       "      <td>smell  soft hop aroma with significant malt scents. this one smells very creamy. taste  and creamy it is. the traditional irish flavors come out at the tongue. this is creamy, not like a cream ale, but close. the m...</td>\n",
       "      <td>0</td>\n",
       "    </tr>\n",
       "    <tr>\n",
       "      <th>1</th>\n",
       "      <td>on tap at dfh rehoboth... collab with eatily... cardamom and red wine must. golden orange. .no head. typical dfh yeast aroma. ..some spice and maybe a belgian influence. sweet spicy and somewhat fruity.. not much ol...</td>\n",
       "      <td>0</td>\n",
       "    </tr>\n",
       "    <tr>\n",
       "      <th>2</th>\n",
       "      <td>nice auburn impressions, tons of clarity, solid inch of off white head.   aroma was a little bit sweet and nutty. taste gave a little more sweetness, stayed away from hops and bitterness, relatively light bodied.  no...</td>\n",
       "      <td>0</td>\n",
       "    </tr>\n",
       "  </tbody>\n",
       "</table>\n",
       "</div>"
      ],
      "text/plain": [
       "                                                                                                                                                                                                                            review  \\\n",
       "index                                                                                                                                                                                                                                \n",
       "0      smell  soft hop aroma with significant malt scents. this one smells very creamy. taste  and creamy it is. the traditional irish flavors come out at the tongue. this is creamy, not like a cream ale, but close. the m...   \n",
       "1       on tap at dfh rehoboth... collab with eatily... cardamom and red wine must. golden orange. .no head. typical dfh yeast aroma. ..some spice and maybe a belgian influence. sweet spicy and somewhat fruity.. not much ol...   \n",
       "2      nice auburn impressions, tons of clarity, solid inch of off white head.   aroma was a little bit sweet and nutty. taste gave a little more sweetness, stayed away from hops and bitterness, relatively light bodied.  no...   \n",
       "\n",
       "       exclamation  \n",
       "index               \n",
       "0                0  \n",
       "1                0  \n",
       "2                0  "
      ]
     },
     "execution_count": 62,
     "metadata": {},
     "output_type": "execute_result"
    }
   ],
   "source": [
    "# count exclamation marks\n",
    "df['exclamation'] = df['review'].apply(lambda x: len([x for x in x.split() if x=='!']))\n",
    "df[['review','exclamation']].head(3)"
   ]
  },
  {
   "cell_type": "code",
   "execution_count": 63,
   "metadata": {},
   "outputs": [
    {
     "data": {
      "text/plain": [
       "191"
      ]
     },
     "execution_count": 63,
     "metadata": {},
     "output_type": "execute_result"
    }
   ],
   "source": [
    "sum(df.exclamation>0)"
   ]
  },
  {
   "cell_type": "code",
   "execution_count": null,
   "metadata": {
    "collapsed": true
   },
   "outputs": [],
   "source": []
  },
  {
   "cell_type": "code",
   "execution_count": 67,
   "metadata": {},
   "outputs": [
    {
     "name": "stdout",
     "output_type": "stream",
     "text": [
      "Number of styles after combining: 3\n"
     ]
    }
   ],
   "source": [
    "# COMBINE SIMILAR STYLES OF BEER, and eliminate the least common styles\n",
    "# COMBINE SIMILAR STYLES OF BEER, and eliminate the least common styles\n",
    "three_styles = df \n",
    "ipa_list = ['American IPA','English India Pale Ale (IPA)','American Double / Imperial IPA',\n",
    "           'Belgian IPA',]\n",
    "three_styles['style'].replace(ipa_list, 'IPA', inplace=True)\n",
    "stout_list = ['American Stout','English Stout','Milk / Sweet Stout','Oatmeal Stout',\n",
    "             'Imperial Stout','American Double / Imperial Stout', ]\n",
    "three_styles['style'].replace(stout_list, 'Stout', inplace=True)\n",
    "other_list = ['Altbier', 'American Adjunct Lager', 'American Amber / Red Ale',\n",
    "       'American Amber / Red Lager', 'American Barleywine',\n",
    "       'American Black Ale', 'American Blonde Ale', 'American Brown Ale',\n",
    "        'American Double / Imperial Pilsner', 'American Pale Ale (APA)',\n",
    "       'American Pale Lager', 'American Pale Wheat Ale', 'American Porter',\n",
    "        'American Stout', 'American Strong Ale', 'American Wild Ale', \n",
    "       'Baltic Porter', 'Belgian Dark Ale', 'Belgian Pale Ale',\n",
    "       'Belgian Strong Dark Ale', 'Belgian Strong Pale Ale',\n",
    "       'Berliner Weissbier', 'Bière de Garde', 'Bock',\n",
    "       'California Common / Steam Beer', 'Chile Beer', 'Cream Ale',\n",
    "       'Czech Pilsener', 'Doppelbock', 'Dortmunder / Export Lager', 'Dubbel',\n",
    "       'Dunkelweizen', 'English Barleywine', 'English Bitter',\n",
    "       'English Brown Ale', 'English Dark Mild Ale', 'English Pale Ale', \n",
    "        'English Porter', 'English Strong Ale', 'Euro Dark Lager',\n",
    "       'Euro Pale Lager', 'Extra Special / Strong Bitter (ESB)',\n",
    "       'Flanders Oud Bruin', 'Flanders Red Ale', 'Foreign / Export Stout',\n",
    "       'Fruit / Vegetable Beer', 'German Pilsener', 'Gose', 'Hefeweizen',\n",
    "       'Herbed / Spiced Beer', 'Irish Dry Stout', 'Irish Red Ale',\n",
    "       'Kellerbier / Zwickelbier', 'Kölsch', 'Lambic - Fruit', 'Light Lager',\n",
    "       'Maibock / Helles Bock', 'Milk / Sweet Stout', 'Munich Dunkel Lager',\n",
    "       'Munich Helles Lager', 'Märzen / Oktoberfest', 'Old Ale', \n",
    "       'Pumpkin Ale', 'Quadrupel (Quad)', 'Rauchbier',\n",
    "       'Russian Imperial Stout', 'Rye Beer', 'Saison / Farmhouse Ale',\n",
    "       'Schwarzbier', 'Scotch Ale / Wee Heavy', 'Scottish Ale', 'Smoked Beer',\n",
    "       'Tripel', 'Vienna Lager', 'Weizenbock', 'Wheatwine', 'Winter Warmer',\n",
    "       'Witbier','American Dark Wheat Ale', 'American Malt Liquor',\n",
    "       'Bière de Champagne / Bière Brut', 'Black & Tan', 'Braggot', 'Eisbock',\n",
    "       'English Pale Mild Ale', 'Euro Strong Lager', 'Faro', 'Gueuze',\n",
    "       'Happoshu', 'Japanese Rice Lager', 'Kristalweizen', 'Kvass',\n",
    "       'Lambic - Unblended', 'Low Alcohol Beer', 'Roggenbier', 'Sahti',\n",
    "       'Scottish Gruit / Ancient Herbed Ale','American Lager','Barleywine','Bitter',\n",
    "        'Brown Ale', 'Farm Ale','Lager','Pale Ale', 'Porter','Wheat']\n",
    "three_styles['style'].replace(other_list, 'Other', inplace=True)\n",
    "\n",
    "styles = three_styles.groupby(['style']).size() \n",
    "print('Number of styles after combining:', len(styles))"
   ]
  },
  {
   "cell_type": "code",
   "execution_count": 68,
   "metadata": {
    "collapsed": true
   },
   "outputs": [],
   "source": [
    "#pickle the clean data:\n",
    "import pickle\n",
    "filename = 'engineered'\n",
    "outfile = open(filename,'wb')\n",
    "pickle.dump(three_styles,outfile)\n",
    "outfile.close()"
   ]
  },
  {
   "cell_type": "code",
   "execution_count": 12,
   "metadata": {
    "collapsed": true
   },
   "outputs": [],
   "source": [
    "# retrieve the pickled data:\n",
    "filename = 'engineered'\n",
    "infile = open(filename,'rb')\n",
    "three_styles = pickle.load(infile)\n",
    "infile.close()"
   ]
  },
  {
   "cell_type": "code",
   "execution_count": 13,
   "metadata": {
    "collapsed": true
   },
   "outputs": [],
   "source": [
    "# VECTORIZE THE REVIEWS  \n",
    "from sklearn.preprocessing import Normalizer\n",
    "\n",
    "X = three_styles['clean_review'].values\n",
    "y = three_styles['style'].values\n",
    "\n",
    "# vectorize the train data, fit and transform into feature vectors\n",
    "vectorizer = CountVectorizer(analyzer='word')\n",
    "X_counts = vectorizer.fit_transform(X)\n",
    "tfidf = TfidfTransformer()\n",
    "X_train_tfidf = tfidf.fit_transform(X_counts)\n",
    "scaler = Normalizer()\n",
    "X_scaled = scaler.fit_transform(X_train_tfidf)\n",
    "\n",
    "# split into train and test data\n",
    "X_train,X_test,y_train,y_test = train_test_split(X_scaled,y, test_size=0.3, random_state=22)"
   ]
  },
  {
   "cell_type": "code",
   "execution_count": 14,
   "metadata": {},
   "outputs": [
    {
     "name": "stdout",
     "output_type": "stream",
     "text": [
      "              precision    recall  f1-score   support\n",
      "\n",
      "         IPA       0.92      0.79      0.85      6281\n",
      "       Other       0.93      0.97      0.95     25417\n",
      "       Stout       0.83      0.80      0.82      2700\n",
      "\n",
      "   micro avg       0.92      0.92      0.92     34398\n",
      "   macro avg       0.89      0.85      0.87     34398\n",
      "weighted avg       0.92      0.92      0.92     34398\n",
      "\n",
      "              precision    recall  f1-score   support\n",
      "\n",
      "         IPA       0.84      0.61      0.71      2664\n",
      "       Other       0.87      0.94      0.90     10883\n",
      "       Stout       0.68      0.55      0.61      1196\n",
      "\n",
      "   micro avg       0.85      0.85      0.85     14743\n",
      "   macro avg       0.80      0.70      0.74     14743\n",
      "weighted avg       0.85      0.85      0.84     14743\n",
      "\n"
     ]
    }
   ],
   "source": [
    "# NAIVE BAYES PREDICTOR \n",
    "from sklearn.metrics import confusion_matrix, classification_report, f1_score, roc_curve\n",
    "clf = MultinomialNB(alpha = 0.01)\n",
    "clf.fit(X_train, y_train)\n",
    "predicted = clf.predict(X_test)\n",
    "predicted_train = clf.predict(X_train)\n",
    "\n",
    "print(classification_report(y_train, predicted_train))\n",
    "print(classification_report(y_test, predicted))"
   ]
  },
  {
   "cell_type": "markdown",
   "metadata": {
    "collapsed": true
   },
   "source": [
    "#### RE-SAMPLING DATA.  <br> Use SMOTE to oversample the small classes.  This creates more data to bolster the small classes, making all classes balanced."
   ]
  },
  {
   "cell_type": "code",
   "execution_count": 20,
   "metadata": {
    "collapsed": true
   },
   "outputs": [],
   "source": [
    "# oversample using SMOTE to balance the classes\n",
    "from imblearn.over_sampling import SMOTE\n",
    "X_resampled, y_resampled = SMOTE().fit_resample(X_scaled, y)\n",
    "# split into train and test data\n",
    "X_train,X_test,y_train,y_test = train_test_split(X_resampled, y_resampled, test_size=0.3, random_state=22)"
   ]
  },
  {
   "cell_type": "code",
   "execution_count": 21,
   "metadata": {},
   "outputs": [
    {
     "name": "stdout",
     "output_type": "stream",
     "text": [
      "              precision    recall  f1-score   support\n",
      "\n",
      "         IPA       0.92      0.94      0.93     25285\n",
      "       Other       0.92      0.84      0.88     25476\n",
      "       Stout       0.91      0.98      0.94     25469\n",
      "\n",
      "   micro avg       0.92      0.92      0.92     76230\n",
      "   macro avg       0.92      0.92      0.92     76230\n",
      "weighted avg       0.92      0.92      0.92     76230\n",
      "\n",
      "              precision    recall  f1-score   support\n",
      "\n",
      "         IPA       0.90      0.93      0.92     11015\n",
      "       Other       0.91      0.79      0.85     10824\n",
      "       Stout       0.90      0.97      0.93     10831\n",
      "\n",
      "   micro avg       0.90      0.90      0.90     32670\n",
      "   macro avg       0.90      0.90      0.90     32670\n",
      "weighted avg       0.90      0.90      0.90     32670\n",
      "\n"
     ]
    }
   ],
   "source": [
    "# NAIVE BAYES PREDICTOR \n",
    "from sklearn.metrics import confusion_matrix, classification_report, f1_score, roc_curve\n",
    "clf = MultinomialNB(alpha = 0.01)\n",
    "clf.fit(X_train, y_train)\n",
    "predicted = clf.predict(X_test)\n",
    "predicted_train = clf.predict(X_train)\n",
    "\n",
    "print(\"classification report on the TRAIN data\")\n",
    "print(classification_report(y_train, predicted_train))\n",
    "print(\"classification report on the TEST data\")\n",
    "print(classification_report(y_test, predicted))"
   ]
  },
  {
   "cell_type": "markdown",
   "metadata": {},
   "source": [
    "#### Use undersampled data  <br>  try with random undersampling, then try NearMiss undersampling"
   ]
  },
  {
   "cell_type": "code",
   "execution_count": 22,
   "metadata": {
    "collapsed": true
   },
   "outputs": [],
   "source": [
    "# undersample using random to balance the classes\n",
    "from imblearn.under_sampling import RandomUnderSampler\n",
    "rus = RandomUnderSampler(random_state=0)\n",
    "X_resampled, y_resampled = rus.fit_resample(X_scaled, y)\n",
    "# split into train and test data\n",
    "X_train,X_test,y_train,y_test = train_test_split(X_resampled, y_resampled, test_size=0.3, random_state=22)"
   ]
  },
  {
   "cell_type": "code",
   "execution_count": 23,
   "metadata": {},
   "outputs": [
    {
     "name": "stdout",
     "output_type": "stream",
     "text": [
      "              precision    recall  f1-score   support\n",
      "\n",
      "         IPA       0.95      0.96      0.95      2703\n",
      "       Other       0.97      0.87      0.92      2731\n",
      "       Stout       0.91      0.99      0.95      2747\n",
      "\n",
      "   micro avg       0.94      0.94      0.94      8181\n",
      "   macro avg       0.94      0.94      0.94      8181\n",
      "weighted avg       0.94      0.94      0.94      8181\n",
      "\n",
      "              precision    recall  f1-score   support\n",
      "\n",
      "         IPA       0.86      0.85      0.85      1193\n",
      "       Other       0.79      0.71      0.74      1165\n",
      "       Stout       0.84      0.93      0.88      1149\n",
      "\n",
      "   micro avg       0.83      0.83      0.83      3507\n",
      "   macro avg       0.83      0.83      0.83      3507\n",
      "weighted avg       0.83      0.83      0.83      3507\n",
      "\n"
     ]
    }
   ],
   "source": [
    "# NAIVE BAYES PREDICTOR \n",
    "from sklearn.metrics import confusion_matrix, classification_report, f1_score, roc_curve\n",
    "clf = MultinomialNB(alpha = 0.01)\n",
    "clf.fit(X_train, y_train)\n",
    "predicted = clf.predict(X_test)\n",
    "predicted_train = clf.predict(X_train)\n",
    "\n",
    "print(\"classification report on the TRAIN data\")\n",
    "print(classification_report(y_train, predicted_train))\n",
    "print(\"classification report on the TEST data\")\n",
    "print(classification_report(y_test, predicted))"
   ]
  },
  {
   "cell_type": "code",
   "execution_count": 24,
   "metadata": {
    "collapsed": true
   },
   "outputs": [],
   "source": [
    "# undersample using NearMiss to balance the classes\n",
    "from imblearn.under_sampling import NearMiss\n",
    "nm1 = NearMiss(version=1)\n",
    "X_resampled_nm1, y_resampled = nm1.fit_resample(X_scaled, y)\n",
    "# split into train and test data\n",
    "X_train,X_test,y_train,y_test = train_test_split(X_resampled, y_resampled, test_size=0.3, random_state=22)"
   ]
  },
  {
   "cell_type": "code",
   "execution_count": 27,
   "metadata": {},
   "outputs": [
    {
     "name": "stdout",
     "output_type": "stream",
     "text": [
      "classification report on the TRAIN data\n",
      "              precision    recall  f1-score   support\n",
      "\n",
      "         IPA       0.95      0.96      0.95      2703\n",
      "       Other       0.97      0.87      0.92      2731\n",
      "       Stout       0.91      0.99      0.95      2747\n",
      "\n",
      "   micro avg       0.94      0.94      0.94      8181\n",
      "   macro avg       0.94      0.94      0.94      8181\n",
      "weighted avg       0.94      0.94      0.94      8181\n",
      "\n",
      "classification report on the TEST data\n",
      "              precision    recall  f1-score   support\n",
      "\n",
      "         IPA       0.86      0.85      0.85      1193\n",
      "       Other       0.79      0.71      0.74      1165\n",
      "       Stout       0.84      0.93      0.88      1149\n",
      "\n",
      "   micro avg       0.83      0.83      0.83      3507\n",
      "   macro avg       0.83      0.83      0.83      3507\n",
      "weighted avg       0.83      0.83      0.83      3507\n",
      "\n"
     ]
    }
   ],
   "source": [
    "# NAIVE BAYES PREDICTOR \n",
    "from sklearn.metrics import confusion_matrix, classification_report, f1_score, roc_curve\n",
    "clf = MultinomialNB(alpha = 0.01)\n",
    "clf.fit(X_train, y_train)\n",
    "predicted = clf.predict(X_test)\n",
    "predicted_train = clf.predict(X_train)\n",
    "\n",
    "print(\"classification report on the TRAIN data\")\n",
    "print(classification_report(y_train, predicted_train))\n",
    "print(\"classification report on the TEST data\")\n",
    "print(classification_report(y_test, predicted))"
   ]
  },
  {
   "cell_type": "code",
   "execution_count": null,
   "metadata": {
    "collapsed": true
   },
   "outputs": [],
   "source": []
  }
 ],
 "metadata": {
  "kernelspec": {
   "display_name": "Python 3",
   "language": "python",
   "name": "python3"
  },
  "language_info": {
   "codemirror_mode": {
    "name": "ipython",
    "version": 3
   },
   "file_extension": ".py",
   "mimetype": "text/x-python",
   "name": "python",
   "nbconvert_exporter": "python",
   "pygments_lexer": "ipython3",
   "version": "3.6.7"
  }
 },
 "nbformat": 4,
 "nbformat_minor": 2
}
