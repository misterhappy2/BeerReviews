{
 "cells": [
  {
   "cell_type": "markdown",
   "metadata": {},
   "source": [
    "### ANALYSIS BASELINE\n",
    "#### use text from reviews, try to predict the beer style.  \n",
    "#### Vectorize the data in beer.review\n",
    "#### Diminish the importance of common words\n",
    "#### use Naive Bayes to measure correlation.  \n",
    "#### this will be my baseline.  I plan to improve it several ways: eliminate imbalance; feature engineering; different algorithms.\n",
    "\n",
    "Compare ML algorithms to use the review data to predict beer.style\n",
    "Compare ML algorithms to predict beer.rating"
   ]
  },
  {
   "cell_type": "code",
   "execution_count": 23,
   "metadata": {},
   "outputs": [
    {
     "name": "stdout",
     "output_type": "stream",
     "text": [
      "length 80818\n"
     ]
    },
    {
     "data": {
      "text/html": [
       "<div>\n",
       "<style>\n",
       "    .dataframe thead tr:only-child th {\n",
       "        text-align: right;\n",
       "    }\n",
       "\n",
       "    .dataframe thead th {\n",
       "        text-align: left;\n",
       "    }\n",
       "\n",
       "    .dataframe tbody tr th {\n",
       "        vertical-align: top;\n",
       "    }\n",
       "</style>\n",
       "<table border=\"1\" class=\"dataframe\">\n",
       "  <thead>\n",
       "    <tr style=\"text-align: right;\">\n",
       "      <th></th>\n",
       "      <th>name</th>\n",
       "      <th>brewery</th>\n",
       "      <th>style</th>\n",
       "      <th>rating</th>\n",
       "      <th>review</th>\n",
       "    </tr>\n",
       "  </thead>\n",
       "  <tbody>\n",
       "    <tr>\n",
       "      <th>0</th>\n",
       "      <td>Big Rock Ale</td>\n",
       "      <td>Big Rock Brewery</td>\n",
       "      <td>Scottish Ale</td>\n",
       "      <td>3.90</td>\n",
       "      <td>smell  soft hop aroma with significant malt scents. this one smells very creamy. taste  and creamy it is. the traditional irish flavors come out at the tongue. this is creamy, not like a cream ale, but close. the m...</td>\n",
       "    </tr>\n",
       "    <tr>\n",
       "      <th>1</th>\n",
       "      <td>Flip Ale</td>\n",
       "      <td>Dogfish Head Craft Brewery</td>\n",
       "      <td>Old Ale</td>\n",
       "      <td>4.08</td>\n",
       "      <td>on tap at dfh rehoboth... collab with eatily... cardamom and red wine must. golden orange. .no head. typical dfh yeast aroma. ..some spice and maybe a belgian influence. sweet spicy and somewhat fruity.. not much ol...</td>\n",
       "    </tr>\n",
       "    <tr>\n",
       "      <th>2</th>\n",
       "      <td>The Almond Marzen Project - Beer Camp #26</td>\n",
       "      <td>Sierra Nevada Brewing Co.</td>\n",
       "      <td>Märzen / Oktoberfest</td>\n",
       "      <td>3.78</td>\n",
       "      <td>nice auburn impressions, tons of clarity, solid inch of off white head.   aroma was a little bit sweet and nutty. taste gave a little more sweetness, stayed away from hops and bitterness, relatively light bodied.  no...</td>\n",
       "    </tr>\n",
       "  </tbody>\n",
       "</table>\n",
       "</div>"
      ],
      "text/plain": [
       "                                        name                     brewery  \\\n",
       "0                               Big Rock Ale            Big Rock Brewery   \n",
       "1                                   Flip Ale  Dogfish Head Craft Brewery   \n",
       "2  The Almond Marzen Project - Beer Camp #26   Sierra Nevada Brewing Co.   \n",
       "\n",
       "                  style  rating  \\\n",
       "0          Scottish Ale    3.90   \n",
       "1               Old Ale    4.08   \n",
       "2  Märzen / Oktoberfest    3.78   \n",
       "\n",
       "                                                                                                                                                                                                                        review  \n",
       "0  smell  soft hop aroma with significant malt scents. this one smells very creamy. taste  and creamy it is. the traditional irish flavors come out at the tongue. this is creamy, not like a cream ale, but close. the m...  \n",
       "1   on tap at dfh rehoboth... collab with eatily... cardamom and red wine must. golden orange. .no head. typical dfh yeast aroma. ..some spice and maybe a belgian influence. sweet spicy and somewhat fruity.. not much ol...  \n",
       "2  nice auburn impressions, tons of clarity, solid inch of off white head.   aroma was a little bit sweet and nutty. taste gave a little more sweetness, stayed away from hops and bitterness, relatively light bodied.  no...  "
      ]
     },
     "execution_count": 23,
     "metadata": {},
     "output_type": "execute_result"
    }
   ],
   "source": [
    "# IMPORT MODULES AND THE DATA SET\n",
    "import numpy as np\n",
    "import pandas as pd\n",
    "from sklearn.feature_extraction.text import CountVectorizer\n",
    "from sklearn.feature_extraction.text import TfidfTransformer, TfidfVectorizer\n",
    "import re\n",
    "import nltk\n",
    "from nltk.corpus import stopwords\n",
    "from nltk.stem.porter import PorterStemmer\n",
    "from sklearn.model_selection import train_test_split \n",
    "from sklearn.pipeline import Pipeline\n",
    "from sklearn.naive_bayes import MultinomialNB\n",
    "from sklearn.linear_model import LogisticRegression\n",
    "\n",
    "df = pd.read_csv('beer.csv', header=0)\n",
    "df_copy = df  #save a copy of dataframe for reference. \n",
    "print('length',len(df))\n",
    "pd.set_option('max_colwidth', 220)\n",
    "df.head(3)"
   ]
  },
  {
   "cell_type": "code",
   "execution_count": 24,
   "metadata": {},
   "outputs": [
    {
     "data": {
      "text/plain": [
       "(80818, 5)"
      ]
     },
     "execution_count": 24,
     "metadata": {},
     "output_type": "execute_result"
    }
   ],
   "source": [
    "df.shape"
   ]
  },
  {
   "cell_type": "code",
   "execution_count": 25,
   "metadata": {},
   "outputs": [
    {
     "name": "stdout",
     "output_type": "stream",
     "text": [
      "df original length 80818\n",
      "length without short reviews 49141\n"
     ]
    },
    {
     "name": "stderr",
     "output_type": "stream",
     "text": [
      "/Users/brentmarijensen/anaconda3/lib/python3.6/site-packages/ipykernel_launcher.py:8: SettingWithCopyWarning: \n",
      "A value is trying to be set on a copy of a slice from a DataFrame.\n",
      "Try using .loc[row_indexer,col_indexer] = value instead\n",
      "\n",
      "See the caveats in the documentation: http://pandas.pydata.org/pandas-docs/stable/indexing.html#indexing-view-versus-copy\n",
      "  \n"
     ]
    },
    {
     "data": {
      "text/html": [
       "<div>\n",
       "<style>\n",
       "    .dataframe thead tr:only-child th {\n",
       "        text-align: right;\n",
       "    }\n",
       "\n",
       "    .dataframe thead th {\n",
       "        text-align: left;\n",
       "    }\n",
       "\n",
       "    .dataframe tbody tr th {\n",
       "        vertical-align: top;\n",
       "    }\n",
       "</style>\n",
       "<table border=\"1\" class=\"dataframe\">\n",
       "  <thead>\n",
       "    <tr style=\"text-align: right;\">\n",
       "      <th></th>\n",
       "      <th>name</th>\n",
       "      <th>brewery</th>\n",
       "      <th>style</th>\n",
       "      <th>rating</th>\n",
       "      <th>review</th>\n",
       "      <th>clean_review</th>\n",
       "    </tr>\n",
       "    <tr>\n",
       "      <th>index</th>\n",
       "      <th></th>\n",
       "      <th></th>\n",
       "      <th></th>\n",
       "      <th></th>\n",
       "      <th></th>\n",
       "      <th></th>\n",
       "    </tr>\n",
       "  </thead>\n",
       "  <tbody>\n",
       "    <tr>\n",
       "      <th>0</th>\n",
       "      <td>Big Rock Ale</td>\n",
       "      <td>Big Rock Brewery</td>\n",
       "      <td>Scottish Ale</td>\n",
       "      <td>3.90</td>\n",
       "      <td>smell  soft hop aroma with significant malt scents. this one smells very creamy. taste  and creamy it is. the traditional irish flavors come out at the tongue. this is creamy, not like a cream ale, but close. the m...</td>\n",
       "      <td>smell soft hop aroma significant malt scents one smells creamy taste creamy traditional irish flavors come tongue creamy like cream ale close malt big buttery smooth hops unique sharp hop flavor easy saturated well m...</td>\n",
       "    </tr>\n",
       "    <tr>\n",
       "      <th>1</th>\n",
       "      <td>Flip Ale</td>\n",
       "      <td>Dogfish Head Craft Brewery</td>\n",
       "      <td>Old Ale</td>\n",
       "      <td>4.08</td>\n",
       "      <td>on tap at dfh rehoboth... collab with eatily... cardamom and red wine must. golden orange. .no head. typical dfh yeast aroma. ..some spice and maybe a belgian influence. sweet spicy and somewhat fruity.. not much ol...</td>\n",
       "      <td>tap dfh rehoboth collab eatily cardamom red wine must golden orange head typical dfh yeast aroma spice maybe belgian influence sweet spicy somewhat fruity much old ale characteristic light still tasty cardamom add ni...</td>\n",
       "    </tr>\n",
       "    <tr>\n",
       "      <th>2</th>\n",
       "      <td>The Almond Marzen Project - Beer Camp #26</td>\n",
       "      <td>Sierra Nevada Brewing Co.</td>\n",
       "      <td>Märzen / Oktoberfest</td>\n",
       "      <td>3.78</td>\n",
       "      <td>nice auburn impressions, tons of clarity, solid inch of off white head.   aroma was a little bit sweet and nutty. taste gave a little more sweetness, stayed away from hops and bitterness, relatively light bodied.  no...</td>\n",
       "      <td>nice auburn impressions tons clarity solid inch white head aroma little bit sweet nutty taste gave little sweetness stayed away hops bitterness relatively light bodied nothing almond came obvious kind fancied oktober...</td>\n",
       "    </tr>\n",
       "  </tbody>\n",
       "</table>\n",
       "</div>"
      ],
      "text/plain": [
       "                                            name                     brewery  \\\n",
       "index                                                                          \n",
       "0                                   Big Rock Ale            Big Rock Brewery   \n",
       "1                                       Flip Ale  Dogfish Head Craft Brewery   \n",
       "2      The Almond Marzen Project - Beer Camp #26   Sierra Nevada Brewing Co.   \n",
       "\n",
       "                      style  rating  \\\n",
       "index                                 \n",
       "0              Scottish Ale    3.90   \n",
       "1                   Old Ale    4.08   \n",
       "2      Märzen / Oktoberfest    3.78   \n",
       "\n",
       "                                                                                                                                                                                                                            review  \\\n",
       "index                                                                                                                                                                                                                                \n",
       "0      smell  soft hop aroma with significant malt scents. this one smells very creamy. taste  and creamy it is. the traditional irish flavors come out at the tongue. this is creamy, not like a cream ale, but close. the m...   \n",
       "1       on tap at dfh rehoboth... collab with eatily... cardamom and red wine must. golden orange. .no head. typical dfh yeast aroma. ..some spice and maybe a belgian influence. sweet spicy and somewhat fruity.. not much ol...   \n",
       "2      nice auburn impressions, tons of clarity, solid inch of off white head.   aroma was a little bit sweet and nutty. taste gave a little more sweetness, stayed away from hops and bitterness, relatively light bodied.  no...   \n",
       "\n",
       "                                                                                                                                                                                                                      clean_review  \n",
       "index                                                                                                                                                                                                                               \n",
       "0      smell soft hop aroma significant malt scents one smells creamy taste creamy traditional irish flavors come tongue creamy like cream ale close malt big buttery smooth hops unique sharp hop flavor easy saturated well m...  \n",
       "1      tap dfh rehoboth collab eatily cardamom red wine must golden orange head typical dfh yeast aroma spice maybe belgian influence sweet spicy somewhat fruity much old ale characteristic light still tasty cardamom add ni...  \n",
       "2      nice auburn impressions tons clarity solid inch white head aroma little bit sweet nutty taste gave little sweetness stayed away hops bitterness relatively light bodied nothing almond came obvious kind fancied oktober...  "
      ]
     },
     "execution_count": 25,
     "metadata": {},
     "output_type": "execute_result"
    }
   ],
   "source": [
    "# DATA PREP\n",
    "print('df original length',len(df))\n",
    "# drop all reviews with < 20 characters\n",
    "df = df[df['review'].map(len) > 20]\n",
    "print('length without short reviews',len(df))\n",
    "\n",
    "# reset dataframe index for the shortened dataframe\n",
    "df['index'] = np.arange(len(df))\n",
    "df = df.set_index('index')\n",
    "\n",
    "# Change review to a string of words.  remove non-letters, make lower case, split into words.  \n",
    "# Remove stopwords (common words.)  Join back together into a long string of words. \n",
    "def review_to_words(review):\n",
    "    letters_only = re.sub('[^a-zA-Z]',' ', review)\n",
    "    words = letters_only.lower().split()\n",
    "    stops = set(stopwords.words('english'))  \n",
    "    good_words = [w for w in words if not w in stops]\n",
    "    porter = PorterStemmer()\n",
    "    stemmed = [porter.stem(word) for word in good_words]\n",
    "    return(' '.join(good_words))\n",
    "\n",
    "# clean the reviews\n",
    "df['clean_review'] = df['review'].apply(review_to_words)\n",
    "\n",
    "df.head(3)"
   ]
  },
  {
   "cell_type": "code",
   "execution_count": null,
   "metadata": {},
   "outputs": [],
   "source": []
  },
  {
   "cell_type": "code",
   "execution_count": 30,
   "metadata": {
    "collapsed": true
   },
   "outputs": [],
   "source": [
    "# ADDITIONAL FEATURE ENGINEERING\n",
    "# review length\n",
    "df['review_length'] = df['review'].apply(len)\n",
    "\n",
    "# average word length\n",
    "def avg_word_len(words):\n",
    "    separate_words = words.split()\n",
    "    count_words = (len(separate_words))    # number of words\n",
    "    if count_words> 0:\n",
    "        characters = len(words)  # length of text\n",
    "        avg = (characters - count_words+1)/count_words\n",
    "    else:\n",
    "        avg = 5.65  # this is the mean of 49000 reviews    \n",
    "    return avg   \n",
    "\n",
    "df['avg_word_length'] = df['clean_review'].apply(avg_word_len)"
   ]
  },
  {
   "cell_type": "code",
   "execution_count": 31,
   "metadata": {},
   "outputs": [],
   "source": [
    "#pickle the clean data:\n",
    "import pickle\n",
    "filename = 'BeerReviews'\n",
    "outfile = open(filename,'wb')\n",
    "pickle.dump(df,outfile)\n",
    "outfile.close()"
   ]
  },
  {
   "cell_type": "code",
   "execution_count": 44,
   "metadata": {
    "collapsed": true
   },
   "outputs": [],
   "source": [
    "# retrieve the pickled data:\n",
    "filename = 'BeerReviews'\n",
    "infile = open(filename,'rb')\n",
    "df = pickle.load(infile)\n",
    "infile.close()"
   ]
  },
  {
   "cell_type": "code",
   "execution_count": 45,
   "metadata": {},
   "outputs": [
    {
     "data": {
      "text/plain": [
       "(49141, 8)"
      ]
     },
     "execution_count": 45,
     "metadata": {},
     "output_type": "execute_result"
    }
   ],
   "source": [
    "df.shape"
   ]
  },
  {
   "cell_type": "markdown",
   "metadata": {},
   "source": [
    "## MACHINE LEARNING \n",
    "### PREDICT STYLE FROM REVIEW\n",
    "The most naive model would predict the most reviewed style: IPA.  It would be correct 13% of the time.  I'll use Naive Bayes algorithm to improve on that.  This will be a baseline.  Then I'll perform various changes to improve my model."
   ]
  },
  {
   "cell_type": "markdown",
   "metadata": {},
   "source": [
    "## 1 all reviews"
   ]
  },
  {
   "cell_type": "code",
   "execution_count": 14,
   "metadata": {
    "collapsed": true
   },
   "outputs": [],
   "source": [
    "# VECTORIZE THE REVIEWS  1.4 minutes\n",
    "from sklearn.preprocessing import Normalizer\n",
    "\n",
    "X = df['clean_review'].values\n",
    "y = df['style'].values\n",
    "\n",
    "# vectorize the train data, fit and transform into feature vectors\n",
    "vectorizer = CountVectorizer(analyzer='word', min_df=3, ngram_range = (1,2))\n",
    "#vectorizer = TfidfVectorizer(analyzer='word', min_df=2, ngram_range = (1,2))\n",
    "X_counts = vectorizer.fit_transform(X)\n",
    "tfidf = TfidfTransformer()\n",
    "X_train_tfidf = tfidf.fit_transform(X_counts)\n",
    "scaler = Normalizer()\n",
    "X_scaled = scaler.fit_transform(X_train_tfidf)\n",
    "\n",
    "# split into train and test data\n",
    "X_train,X_test,y_train,y_test = train_test_split(X_scaled,y, test_size=0.3, random_state=22)"
   ]
  },
  {
   "cell_type": "code",
   "execution_count": 15,
   "metadata": {},
   "outputs": [
    {
     "data": {
      "text/plain": [
       "(49141, 482524)"
      ]
     },
     "execution_count": 15,
     "metadata": {},
     "output_type": "execute_result"
    }
   ],
   "source": [
    "X_scaled.shape"
   ]
  },
  {
   "cell_type": "code",
   "execution_count": 21,
   "metadata": {
    "collapsed": true
   },
   "outputs": [],
   "source": [
    "#pickle the vectorized data:\n",
    "import pickle\n",
    "filename = 'AllBeerVectors'\n",
    "outfile = open(filename,'wb')\n",
    "pickle.dump(df,outfile)\n",
    "outfile.close()"
   ]
  },
  {
   "cell_type": "code",
   "execution_count": 22,
   "metadata": {},
   "outputs": [],
   "source": [
    "# retrieve the pickled data:\n",
    "filename = 'AllBeerVectors'\n",
    "infile = open(filename,'rb')\n",
    "df = pickle.load(infile)\n",
    "infile.close()"
   ]
  },
  {
   "cell_type": "code",
   "execution_count": 19,
   "metadata": {},
   "outputs": [
    {
     "name": "stdout",
     "output_type": "stream",
     "text": [
      "accuracy score:  0.498541680798\n"
     ]
    },
    {
     "name": "stderr",
     "output_type": "stream",
     "text": [
      "/Users/brentmarijensen/anaconda3/lib/python3.6/site-packages/sklearn/metrics/classification.py:1143: UndefinedMetricWarning: Precision and F-score are ill-defined and being set to 0.0 in labels with no predicted samples.\n",
      "  'precision', 'predicted', average, warn_for)\n"
     ]
    },
    {
     "name": "stdout",
     "output_type": "stream",
     "text": [
      "                                     precision    recall  f1-score   support\n",
      "\n",
      "                            Altbier       0.63      0.36      0.46        75\n",
      "             American Adjunct Lager       0.37      0.56      0.45       107\n",
      "           American Amber / Red Ale       0.39      0.45      0.42       438\n",
      "         American Amber / Red Lager       0.60      0.24      0.34        63\n",
      "                American Barleywine       0.45      0.48      0.47       160\n",
      "                 American Black Ale       0.68      0.59      0.63       172\n",
      "                American Blonde Ale       0.50      0.40      0.45       216\n",
      "                 American Brown Ale       0.52      0.35      0.42       267\n",
      "            American Dark Wheat Ale       0.43      0.19      0.26        16\n",
      "     American Double / Imperial IPA       0.61      0.54      0.57       795\n",
      " American Double / Imperial Pilsner       0.56      0.24      0.33        42\n",
      "   American Double / Imperial Stout       0.44      0.72      0.54       486\n",
      "                       American IPA       0.45      0.82      0.58      1653\n",
      "               American Malt Liquor       0.65      0.71      0.68        24\n",
      "            American Pale Ale (APA)       0.42      0.40      0.41       860\n",
      "                American Pale Lager       0.43      0.30      0.35       134\n",
      "            American Pale Wheat Ale       0.55      0.27      0.36       162\n",
      "                    American Porter       0.42      0.65      0.51       482\n",
      "                     American Stout       0.38      0.40      0.39       356\n",
      "                American Strong Ale       0.37      0.29      0.32       139\n",
      "                  American Wild Ale       0.59      0.71      0.64       539\n",
      "                      Baltic Porter       0.43      0.17      0.24        77\n",
      "                   Belgian Dark Ale       0.43      0.19      0.27        77\n",
      "                        Belgian IPA       0.77      0.31      0.44        88\n",
      "                   Belgian Pale Ale       0.54      0.38      0.45       202\n",
      "            Belgian Strong Dark Ale       0.29      0.34      0.31       124\n",
      "            Belgian Strong Pale Ale       0.42      0.36      0.39       141\n",
      "                 Berliner Weissbier       0.85      0.40      0.54       176\n",
      "    Bière de Champagne / Bière Brut       0.00      0.00      0.00         6\n",
      "                     Bière de Garde       0.62      0.30      0.41        43\n",
      "                        Black & Tan       1.00      0.38      0.55         8\n",
      "                               Bock       0.45      0.30      0.36        61\n",
      "                            Braggot       0.60      0.63      0.62        19\n",
      "     California Common / Steam Beer       0.67      0.12      0.21        33\n",
      "                         Chile Beer       0.67      0.67      0.67        36\n",
      "                          Cream Ale       0.79      0.36      0.50        86\n",
      "                     Czech Pilsener       0.55      0.38      0.45       127\n",
      "                         Doppelbock       0.53      0.40      0.45       106\n",
      "          Dortmunder / Export Lager       1.00      0.25      0.40        44\n",
      "                             Dubbel       0.59      0.29      0.39       102\n",
      "                       Dunkelweizen       0.61      0.27      0.38        70\n",
      "                            Eisbock       1.00      0.20      0.33        10\n",
      "                 English Barleywine       0.36      0.42      0.39        78\n",
      "                     English Bitter       0.60      0.57      0.58       227\n",
      "                  English Brown Ale       0.58      0.34      0.42       125\n",
      "              English Dark Mild Ale       0.70      0.28      0.40        58\n",
      "       English India Pale Ale (IPA)       0.81      0.20      0.31       128\n",
      "                   English Pale Ale       0.39      0.36      0.37       180\n",
      "              English Pale Mild Ale       0.57      0.24      0.33        17\n",
      "                     English Porter       0.34      0.22      0.27       107\n",
      "                      English Stout       0.62      0.35      0.45        60\n",
      "                 English Strong Ale       0.49      0.47      0.48        38\n",
      "                    Euro Dark Lager       0.48      0.30      0.37        46\n",
      "                    Euro Pale Lager       0.43      0.55      0.48       180\n",
      "                  Euro Strong Lager       0.88      0.17      0.29        41\n",
      "Extra Special / Strong Bitter (ESB)       0.54      0.36      0.43       148\n",
      "                               Faro       0.00      0.00      0.00         2\n",
      "                 Flanders Oud Bruin       0.38      0.32      0.35        34\n",
      "                   Flanders Red Ale       0.50      0.30      0.37        37\n",
      "             Foreign / Export Stout       0.48      0.33      0.39        43\n",
      "             Fruit / Vegetable Beer       0.45      0.52      0.48       300\n",
      "                    German Pilsener       0.44      0.52      0.47       215\n",
      "                               Gose       0.74      0.46      0.56       105\n",
      "                             Gueuze       0.55      0.32      0.40        19\n",
      "                           Happoshu       1.00      0.07      0.13        14\n",
      "                         Hefeweizen       0.59      0.67      0.63       233\n",
      "               Herbed / Spiced Beer       0.51      0.31      0.39       119\n",
      "                    Irish Dry Stout       0.64      0.36      0.46        75\n",
      "                      Irish Red Ale       0.64      0.22      0.33        63\n",
      "                Japanese Rice Lager       0.25      0.11      0.15         9\n",
      "           Kellerbier / Zwickelbier       0.92      0.33      0.48        67\n",
      "                      Kristalweizen       1.00      0.19      0.32        21\n",
      "                              Kvass       0.67      0.80      0.73        10\n",
      "                             Kölsch       0.74      0.43      0.55       111\n",
      "                     Lambic - Fruit       0.55      0.45      0.49        51\n",
      "                 Lambic - Unblended       0.40      0.12      0.19        16\n",
      "                        Light Lager       0.61      0.42      0.50        78\n",
      "                   Low Alcohol Beer       0.50      0.29      0.37        17\n",
      "              Maibock / Helles Bock       0.60      0.47      0.53        77\n",
      "                 Milk / Sweet Stout       0.53      0.30      0.39       161\n",
      "                Munich Dunkel Lager       0.57      0.38      0.45        66\n",
      "                Munich Helles Lager       0.52      0.28      0.37        78\n",
      "               Märzen / Oktoberfest       0.65      0.47      0.55       155\n",
      "                      Oatmeal Stout       0.61      0.35      0.44       133\n",
      "                            Old Ale       0.56      0.36      0.44        61\n",
      "                        Pumpkin Ale       0.75      0.85      0.80        87\n",
      "                   Quadrupel (Quad)       0.55      0.48      0.51        63\n",
      "                          Rauchbier       0.41      0.48      0.44        23\n",
      "                         Roggenbier       0.50      0.05      0.08        22\n",
      "             Russian Imperial Stout       0.45      0.40      0.42       216\n",
      "                           Rye Beer       0.74      0.32      0.45       115\n",
      "                              Sahti       1.00      0.17      0.29         6\n",
      "             Saison / Farmhouse Ale       0.53      0.71      0.60       642\n",
      "                        Schwarzbier       0.54      0.34      0.42        80\n",
      "             Scotch Ale / Wee Heavy       0.66      0.55      0.60       128\n",
      "                       Scottish Ale       0.70      0.23      0.34        70\n",
      "Scottish Gruit / Ancient Herbed Ale       0.70      0.33      0.45        21\n",
      "                        Smoked Beer       0.50      0.50      0.50        62\n",
      "                             Tripel       0.65      0.57      0.61       137\n",
      "                       Vienna Lager       0.71      0.26      0.38        76\n",
      "                         Weizenbock       0.43      0.38      0.41        42\n",
      "                          Wheatwine       0.88      0.32      0.47        22\n",
      "                      Winter Warmer       0.47      0.49      0.48        85\n",
      "                            Witbier       0.70      0.47      0.56       221\n",
      "\n",
      "                          micro avg       0.50      0.50      0.50     14743\n",
      "                          macro avg       0.57      0.38      0.43     14743\n",
      "                       weighted avg       0.53      0.50      0.49     14743\n",
      "\n"
     ]
    }
   ],
   "source": [
    "# NAIVE BAYES PREDICTOR\n",
    "from sklearn.metrics import confusion_matrix, classification_report, f1_score, roc_curve\n",
    "\n",
    "clf = MultinomialNB(alpha = 0.001)\n",
    "# first pass, .1195,  after word cleaning .2076,  after combining styles .2639\n",
    "# ngrams (1,1): .2639  ngrams (1,2): .2117  ngrams (1,3): .20677\n",
    "# after adding stemmer with ngrams(1,2): .1617\n",
    "# changed alpha to 0.001, got 0.53!\n",
    "clf.fit(X_train, y_train)\n",
    "predicted = clf.predict(X_test)\n",
    "print(\"accuracy score: \", np.mean(predicted == y_test))\n",
    "\n",
    "print(classification_report(y_test, predicted))"
   ]
  },
  {
   "cell_type": "markdown",
   "metadata": {},
   "source": [
    "## 2 half the reviews\n",
    "#### The number of beer styles is large.  Let's simplify the list:"
   ]
  },
  {
   "cell_type": "code",
   "execution_count": 47,
   "metadata": {},
   "outputs": [
    {
     "name": "stdout",
     "output_type": "stream",
     "text": [
      "length 49141\n",
      "Number of styles used: 104\n",
      "\n",
      "Index(['Altbier', 'American Adjunct Lager', 'American Amber / Red Ale',\n",
      "       'American Amber / Red Lager', 'American Barleywine',\n",
      "       'American Black Ale', 'American Blonde Ale', 'American Brown Ale',\n",
      "       'American Dark Wheat Ale', 'American Double / Imperial IPA',\n",
      "       ...\n",
      "       'Scotch Ale / Wee Heavy', 'Scottish Ale',\n",
      "       'Scottish Gruit / Ancient Herbed Ale', 'Smoked Beer', 'Tripel',\n",
      "       'Vienna Lager', 'Weizenbock', 'Wheatwine', 'Winter Warmer', 'Witbier'],\n",
      "      dtype='object', name='style', length=104)\n"
     ]
    }
   ],
   "source": [
    "print('length',len(df))\n",
    "styles = df.groupby(['style']).size() \n",
    "print('Number of styles used:', len(styles))\n",
    "print('')\n",
    "print(styles.index)"
   ]
  },
  {
   "cell_type": "code",
   "execution_count": null,
   "metadata": {
    "collapsed": true
   },
   "outputs": [],
   "source": []
  },
  {
   "cell_type": "code",
   "execution_count": 53,
   "metadata": {},
   "outputs": [
    {
     "name": "stdout",
     "output_type": "stream",
     "text": [
      "Number of styles after combining: 84\n",
      "Number of styles after removing uncommon: 51\n",
      "New length 46321\n"
     ]
    }
   ],
   "source": [
    "# COMBINE SIMILAR STYLES OF BEER, and eliminate the least common styles\n",
    "\n",
    "slim_df = df \n",
    "slim_df['style'].replace(['Saison / Farmhouse Ale','Bière de Garde'], 'Farm Ale', inplace=True)\n",
    "ipa_list = ['American IPA','English India Pale Ale (IPA)','Belgian IPA']\n",
    "slim_df['style'].replace(ipa_list, 'IPA', inplace=True)\n",
    "slim_df['style'].replace('Scotch Ale / Wee Heavy', 'Scottish Ale', inplace=True)\n",
    "pale_list = ['American Pale Ale (APA)','English Pale Ale','Belgian Pale Ale']\n",
    "slim_df['style'].replace(pale_list, 'Pale Ale', inplace=True)\n",
    "brown_list = ['American Brown Ale','English Brown Ale','English Dark Mild Ale']\n",
    "slim_df['style'].replace(brown_list, 'Brown Ale', inplace=True)\n",
    "stout_list = ['American Stout','English Stout','Milk / Sweet Stout','Oatmeal Stout',]\n",
    "slim_df['style'].replace(stout_list, 'Stout', inplace=True)\n",
    "slim_df['style'].replace('American Double / Imperial Stout', 'Imperial Stout', inplace=True)\n",
    "slim_df['style'].replace('Russian Imperial', 'Imperial Stout', inplace=True)\n",
    "porter_list = ['American Porter','Baltic Porter','English Porter']\n",
    "slim_df['style'].replace(porter_list, 'Porter', inplace=True)\n",
    "lager_list = ['American Amber / Red Lager','Vienna Lager','German Pilsener','Munich Helles Lager']\n",
    "slim_df['style'].replace(lager_list, 'Lager', inplace=True)\n",
    "american_lager_list = ['American Adjunct Lager','American Pale Lager']\n",
    "slim_df['style'].replace(american_lager_list, 'American Lager', inplace=True)\n",
    "slim_df['style'].replace('American Barleywine', 'Barleywine', inplace=True)\n",
    "slim_df['style'].replace('English Barleywine', 'Barleywine', inplace=True)\n",
    "slim_df['style'].replace('English Bitter', 'Bitter', inplace=True)\n",
    "slim_df['style'].replace('Extra Special / Strong Bitter (ESB)', 'Bitter', inplace=True)\n",
    "slim_df['style'].replace(['American Pale Wheat Ale','Witbier'], 'Wheat', inplace=True)\n",
    "\n",
    "styles = slim_df.groupby(['style']).size() \n",
    "print('Number of styles after combining:', len(styles))\n",
    "\n",
    "# remove uncommon styles (in EDA, I found some uncommon styles with fewer than 200 reviews, \n",
    "# such as 'Eisbock', 'Faro', 'Gueuze', 'Happoshu'.  \n",
    "\n",
    "labels = slim_df.groupby(['style']).size() \n",
    "uncommon = labels[labels<200]\n",
    "slim_df = slim_df.loc[~df['style'].isin(uncommon.index)]\n",
    "styles = slim_df.groupby(['style']).size() \n",
    "print('Number of styles after removing uncommon:', len(styles))\n",
    "print('New length',len(slim_df))"
   ]
  },
  {
   "cell_type": "markdown",
   "metadata": {},
   "source": [
    "So the number of reviews went down slightly, from 49141 to 46861.  The number of styles dropped by half, from 104 to 54."
   ]
  },
  {
   "cell_type": "code",
   "execution_count": 54,
   "metadata": {
    "collapsed": true
   },
   "outputs": [],
   "source": [
    "# VECTORIZE THE REVIEWS  1.4 minutes\n",
    "from sklearn.preprocessing import Normalizer\n",
    "\n",
    "X = df['clean_review'].values\n",
    "y = df['style'].values\n",
    "\n",
    "# vectorize the train data, fit and transform into feature vectors\n",
    "vectorizer = CountVectorizer(analyzer='word', min_df=3, ngram_range = (1,2))\n",
    "#vectorizer = TfidfVectorizer(analyzer='word', min_df=2, ngram_range = (1,2))\n",
    "X_counts = vectorizer.fit_transform(X)\n",
    "tfidf = TfidfTransformer()\n",
    "X_train_tfidf = tfidf.fit_transform(X_counts)\n",
    "scaler = Normalizer()\n",
    "X_scaled = scaler.fit_transform(X_train_tfidf)\n",
    "\n",
    "# split into train and test data\n",
    "X_train,X_test,y_train,y_test = train_test_split(X_scaled,y, test_size=0.3, random_state=22)"
   ]
  },
  {
   "cell_type": "code",
   "execution_count": 55,
   "metadata": {},
   "outputs": [
    {
     "name": "stdout",
     "output_type": "stream",
     "text": [
      "accuracy score:  0.534558773655\n"
     ]
    },
    {
     "name": "stderr",
     "output_type": "stream",
     "text": [
      "/Users/brentmarijensen/anaconda3/lib/python3.6/site-packages/sklearn/metrics/classification.py:1143: UndefinedMetricWarning: Precision and F-score are ill-defined and being set to 0.0 in labels with no predicted samples.\n",
      "  'precision', 'predicted', average, warn_for)\n"
     ]
    },
    {
     "name": "stdout",
     "output_type": "stream",
     "text": [
      "                                     precision    recall  f1-score   support\n",
      "\n",
      "                            Altbier       0.71      0.33      0.45        75\n",
      "           American Amber / Red Ale       0.49      0.36      0.41       438\n",
      "                 American Black Ale       0.72      0.56      0.63       172\n",
      "                American Blonde Ale       0.59      0.28      0.38       216\n",
      "            American Dark Wheat Ale       0.50      0.19      0.27        16\n",
      "     American Double / Imperial IPA       0.67      0.49      0.57       795\n",
      " American Double / Imperial Pilsner       0.62      0.24      0.34        42\n",
      "                     American Lager       0.44      0.47      0.46       241\n",
      "               American Malt Liquor       0.67      0.75      0.71        24\n",
      "                American Strong Ale       0.45      0.27      0.34       139\n",
      "                  American Wild Ale       0.60      0.69      0.64       539\n",
      "                         Barleywine       0.51      0.67      0.58       238\n",
      "                   Belgian Dark Ale       0.53      0.21      0.30        77\n",
      "            Belgian Strong Dark Ale       0.30      0.32      0.31       124\n",
      "            Belgian Strong Pale Ale       0.49      0.31      0.38       141\n",
      "                 Berliner Weissbier       0.85      0.38      0.52       176\n",
      "                             Bitter       0.64      0.52      0.57       375\n",
      "    Bière de Champagne / Bière Brut       0.00      0.00      0.00         6\n",
      "                        Black & Tan       1.00      0.38      0.55         8\n",
      "                               Bock       0.53      0.28      0.37        61\n",
      "                            Braggot       0.63      0.63      0.63        19\n",
      "                          Brown Ale       0.65      0.51      0.57       450\n",
      "     California Common / Steam Beer       0.80      0.12      0.21        33\n",
      "                         Chile Beer       0.67      0.61      0.64        36\n",
      "                          Cream Ale       0.84      0.31      0.46        86\n",
      "                     Czech Pilsener       0.65      0.28      0.39       127\n",
      "                         Doppelbock       0.62      0.36      0.46       106\n",
      "          Dortmunder / Export Lager       1.00      0.25      0.40        44\n",
      "                             Dubbel       0.71      0.29      0.42       102\n",
      "                       Dunkelweizen       0.72      0.26      0.38        70\n",
      "                            Eisbock       1.00      0.20      0.33        10\n",
      "              English Pale Mild Ale       0.80      0.24      0.36        17\n",
      "                 English Strong Ale       0.68      0.50      0.58        38\n",
      "                    Euro Dark Lager       0.52      0.26      0.35        46\n",
      "                    Euro Pale Lager       0.49      0.46      0.47       180\n",
      "                  Euro Strong Lager       0.78      0.17      0.28        41\n",
      "                           Farm Ale       0.55      0.66      0.60       685\n",
      "                               Faro       0.00      0.00      0.00         2\n",
      "                 Flanders Oud Bruin       0.44      0.32      0.37        34\n",
      "                   Flanders Red Ale       0.52      0.30      0.38        37\n",
      "             Foreign / Export Stout       0.52      0.28      0.36        43\n",
      "             Fruit / Vegetable Beer       0.47      0.47      0.47       300\n",
      "                               Gose       0.76      0.45      0.56       105\n",
      "                             Gueuze       0.60      0.32      0.41        19\n",
      "                           Happoshu       1.00      0.07      0.13        14\n",
      "                         Hefeweizen       0.67      0.62      0.64       233\n",
      "               Herbed / Spiced Beer       0.49      0.29      0.37       119\n",
      "                                IPA       0.50      0.81      0.62      1869\n",
      "                     Imperial Stout       0.51      0.66      0.58       486\n",
      "                    Irish Dry Stout       0.72      0.35      0.47        75\n",
      "                      Irish Red Ale       0.93      0.21      0.34        63\n",
      "                Japanese Rice Lager       0.25      0.11      0.15         9\n",
      "           Kellerbier / Zwickelbier       0.95      0.28      0.44        67\n",
      "                      Kristalweizen       1.00      0.19      0.32        21\n",
      "                              Kvass       0.73      0.80      0.76        10\n",
      "                             Kölsch       0.82      0.29      0.43       111\n",
      "                              Lager       0.45      0.55      0.50       432\n",
      "                     Lambic - Fruit       0.59      0.45      0.51        51\n",
      "                 Lambic - Unblended       0.40      0.12      0.19        16\n",
      "                        Light Lager       0.63      0.35      0.45        78\n",
      "                   Low Alcohol Beer       0.50      0.24      0.32        17\n",
      "              Maibock / Helles Bock       0.77      0.43      0.55        77\n",
      "                Munich Dunkel Lager       0.57      0.32      0.41        66\n",
      "               Märzen / Oktoberfest       0.79      0.36      0.50       155\n",
      "                            Old Ale       0.63      0.36      0.46        61\n",
      "                           Pale Ale       0.38      0.53      0.44      1242\n",
      "                             Porter       0.52      0.67      0.59       666\n",
      "                        Pumpkin Ale       0.75      0.84      0.79        87\n",
      "                   Quadrupel (Quad)       0.62      0.44      0.52        63\n",
      "                          Rauchbier       0.41      0.48      0.44        23\n",
      "                         Roggenbier       0.50      0.05      0.08        22\n",
      "             Russian Imperial Stout       0.52      0.36      0.42       216\n",
      "                           Rye Beer       0.73      0.30      0.43       115\n",
      "                              Sahti       1.00      0.17      0.29         6\n",
      "                        Schwarzbier       0.58      0.28      0.37        80\n",
      "                       Scottish Ale       0.69      0.51      0.59       198\n",
      "Scottish Gruit / Ancient Herbed Ale       0.75      0.29      0.41        21\n",
      "                        Smoked Beer       0.52      0.48      0.50        62\n",
      "                              Stout       0.57      0.67      0.62       710\n",
      "                             Tripel       0.68      0.51      0.58       137\n",
      "                         Weizenbock       0.47      0.36      0.41        42\n",
      "                              Wheat       0.64      0.46      0.53       383\n",
      "                          Wheatwine       1.00      0.27      0.43        22\n",
      "                      Winter Warmer       0.51      0.46      0.48        85\n",
      "\n",
      "                          micro avg       0.53      0.53      0.53     14743\n",
      "                          macro avg       0.62      0.38      0.44     14743\n",
      "                       weighted avg       0.57      0.53      0.52     14743\n",
      "\n"
     ]
    }
   ],
   "source": [
    "# NAIVE BAYES PREDICTOR\n",
    "from sklearn.metrics import confusion_matrix, classification_report, f1_score, roc_curve\n",
    "\n",
    "clf = MultinomialNB(alpha = 0.001)\n",
    "# first pass, .1195,  after word cleaning .2076,  after combining styles .2639\n",
    "# ngrams (1,1): .2639  ngrams (1,2): .2117  ngrams (1,3): .20677\n",
    "# after adding stemmer with ngrams(1,2): .1617\n",
    "# changed alpha to 0.001, got 0.53!\n",
    "clf.fit(X_train, y_train)\n",
    "predicted = clf.predict(X_test)\n",
    "print(\"accuracy score: \", np.mean(predicted == y_test))\n",
    "\n",
    "print(classification_report(y_test, predicted))"
   ]
  },
  {
   "cell_type": "markdown",
   "metadata": {},
   "source": [
    "## 3 IPA, Stout, other\n",
    "#### reduce to 3 styles: IPA, Stout, other"
   ]
  },
  {
   "cell_type": "code",
   "execution_count": 59,
   "metadata": {},
   "outputs": [
    {
     "name": "stdout",
     "output_type": "stream",
     "text": [
      "Number of styles after combining: 13\n"
     ]
    }
   ],
   "source": [
    "# COMBINE SIMILAR STYLES OF BEER, and eliminate the least common styles\n",
    "\n",
    "three_styles = df \n",
    "ipa_list = ['American IPA','English India Pale Ale (IPA)','American Double / Imperial IPA',\n",
    "           'Belgian IPA',]\n",
    "three_styles['style'].replace(ipa_list, 'IPA', inplace=True)\n",
    "stout_list = ['American Stout','English Stout','Milk / Sweet Stout','Oatmeal Stout',\n",
    "             'Imperial Stout','American Double / Imperial Stout', ]\n",
    "three_styles['style'].replace(stout_list, 'Stout', inplace=True)\n",
    "other_list = ['Altbier', 'American Adjunct Lager', 'American Amber / Red Ale',\n",
    "       'American Amber / Red Lager', 'American Barleywine',\n",
    "       'American Black Ale', 'American Blonde Ale', 'American Brown Ale',\n",
    "        'American Double / Imperial Pilsner',\n",
    "       'American Pale Ale (APA)', 'American Pale Lager',\n",
    "       'American Pale Wheat Ale', 'American Porter', 'American Stout',\n",
    "       'American Strong Ale', 'American Wild Ale', 'Baltic Porter',\n",
    "       'Belgian Dark Ale', 'Belgian Pale Ale',\n",
    "       'Belgian Strong Dark Ale', 'Belgian Strong Pale Ale',\n",
    "       'Berliner Weissbier', 'Bière de Garde', 'Bock',\n",
    "       'California Common / Steam Beer', 'Chile Beer', 'Cream Ale',\n",
    "       'Czech Pilsener', 'Doppelbock', 'Dortmunder / Export Lager', 'Dubbel',\n",
    "       'Dunkelweizen', 'English Barleywine', 'English Bitter',\n",
    "       'English Brown Ale', 'English Dark Mild Ale',\n",
    "        'English Pale Ale', 'English Porter',\n",
    "        'English Strong Ale', 'Euro Dark Lager',\n",
    "       'Euro Pale Lager', 'Extra Special / Strong Bitter (ESB)',\n",
    "       'Flanders Oud Bruin', 'Flanders Red Ale', 'Foreign / Export Stout',\n",
    "       'Fruit / Vegetable Beer', 'German Pilsener', 'Gose', 'Hefeweizen',\n",
    "       'Herbed / Spiced Beer', 'Irish Dry Stout', 'Irish Red Ale',\n",
    "       'Kellerbier / Zwickelbier', 'Kölsch', 'Lambic - Fruit', 'Light Lager',\n",
    "       'Maibock / Helles Bock', 'Milk / Sweet Stout', 'Munich Dunkel Lager',\n",
    "       'Munich Helles Lager', 'Märzen / Oktoberfest',\n",
    "       'Old Ale', 'Pumpkin Ale', 'Quadrupel (Quad)', 'Rauchbier',\n",
    "       'Russian Imperial Stout', 'Rye Beer', 'Saison / Farmhouse Ale',\n",
    "       'Schwarzbier', 'Scotch Ale / Wee Heavy', 'Scottish Ale', 'Smoked Beer',\n",
    "       'Tripel', 'Vienna Lager', 'Weizenbock', 'Wheatwine', 'Winter Warmer',\n",
    "       'Witbier','American Dark Wheat Ale', 'American Malt Liquor',\n",
    "       'Bière de Champagne / Bière Brut', 'Black & Tan', 'Braggot', 'Eisbock',\n",
    "       'English Pale Mild Ale', 'Euro Strong Lager', 'Faro', 'Gueuze',\n",
    "       'Happoshu', 'Japanese Rice Lager', 'Kristalweizen', 'Kvass',\n",
    "       'Lambic - Unblended', 'Low Alcohol Beer', 'Roggenbier', 'Sahti',\n",
    "       'Scottish Gruit / Ancient Herbed Ale','American Lager','Barleywine','Bitter',\n",
    "        'Brown Ale', 'Farm Ale','Lager','Pale Ale', 'Porter','Wheat']\n",
    "three_styles['style'].replace(other_list, 'Other', inplace=True)\n",
    "\n",
    "styles = three_styles.groupby(['style']).size() \n",
    "print('Number of styles after combining:', len(styles))"
   ]
  },
  {
   "cell_type": "code",
   "execution_count": 60,
   "metadata": {},
   "outputs": [
    {
     "name": "stdout",
     "output_type": "stream",
     "text": [
      "Index(['American Lager', 'Barleywine', 'Bitter', 'Brown Ale', 'Farm Ale',\n",
      "       'IPA', 'Imperial Stout', 'Lager', 'Other', 'Pale Ale', 'Porter',\n",
      "       'Stout', 'Wheat'],\n",
      "      dtype='object', name='style')\n"
     ]
    }
   ],
   "source": [
    "print(styles.index)"
   ]
  },
  {
   "cell_type": "code",
   "execution_count": null,
   "metadata": {
    "collapsed": true
   },
   "outputs": [],
   "source": []
  },
  {
   "cell_type": "code",
   "execution_count": null,
   "metadata": {
    "collapsed": true
   },
   "outputs": [],
   "source": []
  },
  {
   "cell_type": "code",
   "execution_count": null,
   "metadata": {
    "collapsed": true
   },
   "outputs": [],
   "source": []
  }
 ],
 "metadata": {
  "kernelspec": {
   "display_name": "Python 3",
   "language": "python",
   "name": "python3"
  },
  "language_info": {
   "codemirror_mode": {
    "name": "ipython",
    "version": 3
   },
   "file_extension": ".py",
   "mimetype": "text/x-python",
   "name": "python",
   "nbconvert_exporter": "python",
   "pygments_lexer": "ipython3",
   "version": "3.6.3"
  }
 },
 "nbformat": 4,
 "nbformat_minor": 2
}
