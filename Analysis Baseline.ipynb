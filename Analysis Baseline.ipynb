{
 "cells": [
  {
   "cell_type": "markdown",
   "metadata": {},
   "source": [
    "### ANALYSIS BASELINE\n",
    "#### use text from reviews, try to predict the beer style.  \n",
    "#### Vectorize the data in beer.review\n",
    "#### Diminish the importance of common words\n",
    "#### use Naive Bayes to measure correlation.  \n",
    "#### this will be my baseline.  I plan to improve it several ways: eliminate imbalance; feature engineering; different algorithms.\n",
    "\n",
    "Compare ML algorithms to use the review data to predict beer.style\n",
    "Compare ML algorithms to predict beer.rating"
   ]
  },
  {
   "cell_type": "code",
   "execution_count": 2,
   "metadata": {},
   "outputs": [
    {
     "name": "stdout",
     "output_type": "stream",
     "text": [
      "length 80818\n"
     ]
    },
    {
     "data": {
      "text/html": [
       "<div>\n",
       "<style>\n",
       "    .dataframe thead tr:only-child th {\n",
       "        text-align: right;\n",
       "    }\n",
       "\n",
       "    .dataframe thead th {\n",
       "        text-align: left;\n",
       "    }\n",
       "\n",
       "    .dataframe tbody tr th {\n",
       "        vertical-align: top;\n",
       "    }\n",
       "</style>\n",
       "<table border=\"1\" class=\"dataframe\">\n",
       "  <thead>\n",
       "    <tr style=\"text-align: right;\">\n",
       "      <th></th>\n",
       "      <th>name</th>\n",
       "      <th>brewery</th>\n",
       "      <th>style</th>\n",
       "      <th>rating</th>\n",
       "      <th>review</th>\n",
       "    </tr>\n",
       "  </thead>\n",
       "  <tbody>\n",
       "    <tr>\n",
       "      <th>0</th>\n",
       "      <td>Big Rock Ale</td>\n",
       "      <td>Big Rock Brewery</td>\n",
       "      <td>Scottish Ale</td>\n",
       "      <td>3.90</td>\n",
       "      <td>smell  soft hop aroma with significant malt scents. this one smells very creamy. taste  and creamy it is. the traditional irish flavors come out at the tongue. this is creamy, not like a cream ale, but close. the m...</td>\n",
       "    </tr>\n",
       "    <tr>\n",
       "      <th>1</th>\n",
       "      <td>Flip Ale</td>\n",
       "      <td>Dogfish Head Craft Brewery</td>\n",
       "      <td>Old Ale</td>\n",
       "      <td>4.08</td>\n",
       "      <td>on tap at dfh rehoboth... collab with eatily... cardamom and red wine must. golden orange. .no head. typical dfh yeast aroma. ..some spice and maybe a belgian influence. sweet spicy and somewhat fruity.. not much ol...</td>\n",
       "    </tr>\n",
       "    <tr>\n",
       "      <th>2</th>\n",
       "      <td>The Almond Marzen Project - Beer Camp #26</td>\n",
       "      <td>Sierra Nevada Brewing Co.</td>\n",
       "      <td>Märzen / Oktoberfest</td>\n",
       "      <td>3.78</td>\n",
       "      <td>nice auburn impressions, tons of clarity, solid inch of off white head.   aroma was a little bit sweet and nutty. taste gave a little more sweetness, stayed away from hops and bitterness, relatively light bodied.  no...</td>\n",
       "    </tr>\n",
       "  </tbody>\n",
       "</table>\n",
       "</div>"
      ],
      "text/plain": [
       "                                        name                     brewery  \\\n",
       "0                               Big Rock Ale            Big Rock Brewery   \n",
       "1                                   Flip Ale  Dogfish Head Craft Brewery   \n",
       "2  The Almond Marzen Project - Beer Camp #26   Sierra Nevada Brewing Co.   \n",
       "\n",
       "                  style  rating  \\\n",
       "0          Scottish Ale    3.90   \n",
       "1               Old Ale    4.08   \n",
       "2  Märzen / Oktoberfest    3.78   \n",
       "\n",
       "                                                                                                                                                                                                                        review  \n",
       "0  smell  soft hop aroma with significant malt scents. this one smells very creamy. taste  and creamy it is. the traditional irish flavors come out at the tongue. this is creamy, not like a cream ale, but close. the m...  \n",
       "1   on tap at dfh rehoboth... collab with eatily... cardamom and red wine must. golden orange. .no head. typical dfh yeast aroma. ..some spice and maybe a belgian influence. sweet spicy and somewhat fruity.. not much ol...  \n",
       "2  nice auburn impressions, tons of clarity, solid inch of off white head.   aroma was a little bit sweet and nutty. taste gave a little more sweetness, stayed away from hops and bitterness, relatively light bodied.  no...  "
      ]
     },
     "execution_count": 2,
     "metadata": {},
     "output_type": "execute_result"
    }
   ],
   "source": [
    "# IMPORT MODULES AND THE DATA SET\n",
    "import numpy as np\n",
    "import pandas as pd\n",
    "from sklearn.feature_extraction.text import CountVectorizer\n",
    "from sklearn.feature_extraction.text import TfidfTransformer, TfidfVectorizer\n",
    "import re\n",
    "import nltk\n",
    "from nltk.corpus import stopwords\n",
    "from nltk.stem.porter import PorterStemmer\n",
    "from sklearn.model_selection import train_test_split \n",
    "from sklearn.naive_bayes import MultinomialNB\n",
    "\n",
    "df = pd.read_csv('beer.csv', header=0)\n",
    "df_copy = df  #save a copy of dataframe for reference. \n",
    "print('length',len(df))\n",
    "pd.set_option('max_colwidth', 220)\n",
    "df.head(3)"
   ]
  },
  {
   "cell_type": "code",
   "execution_count": 3,
   "metadata": {},
   "outputs": [
    {
     "data": {
      "text/plain": [
       "(80818, 5)"
      ]
     },
     "execution_count": 3,
     "metadata": {},
     "output_type": "execute_result"
    }
   ],
   "source": [
    "df.shape"
   ]
  },
  {
   "cell_type": "code",
   "execution_count": 4,
   "metadata": {},
   "outputs": [
    {
     "name": "stdout",
     "output_type": "stream",
     "text": [
      "df original length 80818\n",
      "length without short reviews 49141\n"
     ]
    },
    {
     "name": "stderr",
     "output_type": "stream",
     "text": [
      "/Users/brentmarijensen/anaconda3/lib/python3.6/site-packages/ipykernel_launcher.py:8: SettingWithCopyWarning: \n",
      "A value is trying to be set on a copy of a slice from a DataFrame.\n",
      "Try using .loc[row_indexer,col_indexer] = value instead\n",
      "\n",
      "See the caveats in the documentation: http://pandas.pydata.org/pandas-docs/stable/indexing.html#indexing-view-versus-copy\n",
      "  \n"
     ]
    },
    {
     "data": {
      "text/html": [
       "<div>\n",
       "<style>\n",
       "    .dataframe thead tr:only-child th {\n",
       "        text-align: right;\n",
       "    }\n",
       "\n",
       "    .dataframe thead th {\n",
       "        text-align: left;\n",
       "    }\n",
       "\n",
       "    .dataframe tbody tr th {\n",
       "        vertical-align: top;\n",
       "    }\n",
       "</style>\n",
       "<table border=\"1\" class=\"dataframe\">\n",
       "  <thead>\n",
       "    <tr style=\"text-align: right;\">\n",
       "      <th></th>\n",
       "      <th>name</th>\n",
       "      <th>brewery</th>\n",
       "      <th>style</th>\n",
       "      <th>rating</th>\n",
       "      <th>review</th>\n",
       "      <th>clean_review</th>\n",
       "    </tr>\n",
       "    <tr>\n",
       "      <th>index</th>\n",
       "      <th></th>\n",
       "      <th></th>\n",
       "      <th></th>\n",
       "      <th></th>\n",
       "      <th></th>\n",
       "      <th></th>\n",
       "    </tr>\n",
       "  </thead>\n",
       "  <tbody>\n",
       "    <tr>\n",
       "      <th>0</th>\n",
       "      <td>Big Rock Ale</td>\n",
       "      <td>Big Rock Brewery</td>\n",
       "      <td>Scottish Ale</td>\n",
       "      <td>3.90</td>\n",
       "      <td>smell  soft hop aroma with significant malt scents. this one smells very creamy. taste  and creamy it is. the traditional irish flavors come out at the tongue. this is creamy, not like a cream ale, but close. the m...</td>\n",
       "      <td>smell soft hop aroma significant malt scents one smells creamy taste creamy traditional irish flavors come tongue creamy like cream ale close malt big buttery smooth hops unique sharp hop flavor easy saturated well m...</td>\n",
       "    </tr>\n",
       "    <tr>\n",
       "      <th>1</th>\n",
       "      <td>Flip Ale</td>\n",
       "      <td>Dogfish Head Craft Brewery</td>\n",
       "      <td>Old Ale</td>\n",
       "      <td>4.08</td>\n",
       "      <td>on tap at dfh rehoboth... collab with eatily... cardamom and red wine must. golden orange. .no head. typical dfh yeast aroma. ..some spice and maybe a belgian influence. sweet spicy and somewhat fruity.. not much ol...</td>\n",
       "      <td>tap dfh rehoboth collab eatily cardamom red wine must golden orange head typical dfh yeast aroma spice maybe belgian influence sweet spicy somewhat fruity much old ale characteristic light still tasty cardamom add ni...</td>\n",
       "    </tr>\n",
       "    <tr>\n",
       "      <th>2</th>\n",
       "      <td>The Almond Marzen Project - Beer Camp #26</td>\n",
       "      <td>Sierra Nevada Brewing Co.</td>\n",
       "      <td>Märzen / Oktoberfest</td>\n",
       "      <td>3.78</td>\n",
       "      <td>nice auburn impressions, tons of clarity, solid inch of off white head.   aroma was a little bit sweet and nutty. taste gave a little more sweetness, stayed away from hops and bitterness, relatively light bodied.  no...</td>\n",
       "      <td>nice auburn impressions tons clarity solid inch white head aroma little bit sweet nutty taste gave little sweetness stayed away hops bitterness relatively light bodied nothing almond came obvious kind fancied oktober...</td>\n",
       "    </tr>\n",
       "  </tbody>\n",
       "</table>\n",
       "</div>"
      ],
      "text/plain": [
       "                                            name                     brewery  \\\n",
       "index                                                                          \n",
       "0                                   Big Rock Ale            Big Rock Brewery   \n",
       "1                                       Flip Ale  Dogfish Head Craft Brewery   \n",
       "2      The Almond Marzen Project - Beer Camp #26   Sierra Nevada Brewing Co.   \n",
       "\n",
       "                      style  rating  \\\n",
       "index                                 \n",
       "0              Scottish Ale    3.90   \n",
       "1                   Old Ale    4.08   \n",
       "2      Märzen / Oktoberfest    3.78   \n",
       "\n",
       "                                                                                                                                                                                                                            review  \\\n",
       "index                                                                                                                                                                                                                                \n",
       "0      smell  soft hop aroma with significant malt scents. this one smells very creamy. taste  and creamy it is. the traditional irish flavors come out at the tongue. this is creamy, not like a cream ale, but close. the m...   \n",
       "1       on tap at dfh rehoboth... collab with eatily... cardamom and red wine must. golden orange. .no head. typical dfh yeast aroma. ..some spice and maybe a belgian influence. sweet spicy and somewhat fruity.. not much ol...   \n",
       "2      nice auburn impressions, tons of clarity, solid inch of off white head.   aroma was a little bit sweet and nutty. taste gave a little more sweetness, stayed away from hops and bitterness, relatively light bodied.  no...   \n",
       "\n",
       "                                                                                                                                                                                                                      clean_review  \n",
       "index                                                                                                                                                                                                                               \n",
       "0      smell soft hop aroma significant malt scents one smells creamy taste creamy traditional irish flavors come tongue creamy like cream ale close malt big buttery smooth hops unique sharp hop flavor easy saturated well m...  \n",
       "1      tap dfh rehoboth collab eatily cardamom red wine must golden orange head typical dfh yeast aroma spice maybe belgian influence sweet spicy somewhat fruity much old ale characteristic light still tasty cardamom add ni...  \n",
       "2      nice auburn impressions tons clarity solid inch white head aroma little bit sweet nutty taste gave little sweetness stayed away hops bitterness relatively light bodied nothing almond came obvious kind fancied oktober...  "
      ]
     },
     "execution_count": 4,
     "metadata": {},
     "output_type": "execute_result"
    }
   ],
   "source": [
    "# DATA PREP\n",
    "print('df original length',len(df))\n",
    "# drop all reviews with < 20 characters\n",
    "df = df[df['review'].map(len) > 20]\n",
    "print('length without short reviews',len(df))\n",
    "\n",
    "# reset dataframe index for the shortened dataframe\n",
    "df['index'] = np.arange(len(df))\n",
    "df = df.set_index('index')\n",
    "\n",
    "# Change review to a string of words.  remove non-letters, make lower case, split into words.  \n",
    "# Remove stopwords (common words.)  Join back together into a long string of words. \n",
    "def review_to_words(review):\n",
    "    letters_only = re.sub('[^a-zA-Z]',' ', review)\n",
    "    words = letters_only.lower().split()\n",
    "    stops = set(stopwords.words('english'))  \n",
    "    good_words = [w for w in words if not w in stops]\n",
    "    porter = PorterStemmer()\n",
    "    stemmed = [porter.stem(word) for word in good_words]\n",
    "    return(' '.join(good_words))\n",
    "\n",
    "# clean the reviews\n",
    "df['clean_review'] = df['review'].apply(review_to_words)\n",
    "\n",
    "df.head(3)"
   ]
  },
  {
   "cell_type": "code",
   "execution_count": null,
   "metadata": {
    "collapsed": true
   },
   "outputs": [],
   "source": []
  },
  {
   "cell_type": "code",
   "execution_count": null,
   "metadata": {
    "collapsed": true
   },
   "outputs": [],
   "source": []
  },
  {
   "cell_type": "code",
   "execution_count": 5,
   "metadata": {
    "collapsed": true
   },
   "outputs": [],
   "source": [
    "#pickle the clean data:\n",
    "import pickle\n",
    "filename = 'BeerReviews'\n",
    "outfile = open(filename,'wb')\n",
    "pickle.dump(df,outfile)\n",
    "outfile.close()"
   ]
  },
  {
   "cell_type": "code",
   "execution_count": 6,
   "metadata": {
    "collapsed": true
   },
   "outputs": [],
   "source": [
    "# retrieve the pickled data:\n",
    "filename = 'BeerReviews'\n",
    "infile = open(filename,'rb')\n",
    "df = pickle.load(infile)\n",
    "infile.close()"
   ]
  },
  {
   "cell_type": "code",
   "execution_count": 7,
   "metadata": {},
   "outputs": [
    {
     "data": {
      "text/plain": [
       "(49141, 6)"
      ]
     },
     "execution_count": 7,
     "metadata": {},
     "output_type": "execute_result"
    }
   ],
   "source": [
    "df.shape"
   ]
  },
  {
   "cell_type": "markdown",
   "metadata": {},
   "source": [
    "## MACHINE LEARNING \n",
    "### PREDICT STYLE FROM REVIEW\n",
    "The most naive model would predict the most reviewed style: IPA.  It would be correct 13% of the time.  I'll use Naive Bayes algorithm to improve on that.  This will be a baseline.  Then I'll perform various changes to improve my model."
   ]
  },
  {
   "cell_type": "markdown",
   "metadata": {},
   "source": [
    "## 1 Naive Bayes on all reviews\n",
    "#### I'll vectorize the words, then use Naive Bayes to predict style based on the text in the reviews.  "
   ]
  },
  {
   "cell_type": "code",
   "execution_count": 8,
   "metadata": {
    "collapsed": true
   },
   "outputs": [],
   "source": [
    "# VECTORIZE THE REVIEWS  1.4 minutes\n",
    "from sklearn.preprocessing import Normalizer\n",
    "\n",
    "X = df['clean_review'].values\n",
    "y = df['style'].values\n",
    "\n",
    "# vectorize the train data, fit and transform into feature vectors\n",
    "vectorizer = CountVectorizer(analyzer='word')\n",
    "X_counts = vectorizer.fit_transform(X)\n",
    "tfidf = TfidfTransformer()\n",
    "X_train_tfidf = tfidf.fit_transform(X_counts)\n",
    "scaler = Normalizer()\n",
    "X_scaled = scaler.fit_transform(X_train_tfidf)\n",
    "\n",
    "# split into train and test data\n",
    "X_train,X_test,y_train,y_test = train_test_split(X_scaled,y, test_size=0.3, random_state=22)"
   ]
  },
  {
   "cell_type": "code",
   "execution_count": 9,
   "metadata": {},
   "outputs": [
    {
     "data": {
      "text/plain": [
       "(49141, 73699)"
      ]
     },
     "execution_count": 9,
     "metadata": {},
     "output_type": "execute_result"
    }
   ],
   "source": [
    "X_scaled.shape"
   ]
  },
  {
   "cell_type": "code",
   "execution_count": null,
   "metadata": {
    "collapsed": true
   },
   "outputs": [],
   "source": []
  },
  {
   "cell_type": "code",
   "execution_count": 10,
   "metadata": {},
   "outputs": [
    {
     "name": "stdout",
     "output_type": "stream",
     "text": [
      "style\n",
      "Altbier                                 229\n",
      "American Adjunct Lager                  339\n",
      "American Amber / Red Ale               1424\n",
      "American Amber / Red Lager              182\n",
      "American Barleywine                     517\n",
      "American Black Ale                      556\n",
      "American Blonde Ale                     770\n",
      "American Brown Ale                      877\n",
      "American Dark Wheat Ale                  53\n",
      "American Double / Imperial IPA         2677\n",
      "American Double / Imperial Pilsner      127\n",
      "American Double / Imperial Stout       1591\n",
      "American IPA                           5552\n",
      "American Malt Liquor                     87\n",
      "American Pale Ale (APA)                2779\n",
      "American Pale Lager                     483\n",
      "American Pale Wheat Ale                 607\n",
      "American Porter                        1578\n",
      "American Stout                         1121\n",
      "American Strong Ale                     438\n",
      "American Wild Ale                      1769\n",
      "Baltic Porter                           234\n",
      "Belgian Dark Ale                        205\n",
      "Belgian IPA                             319\n",
      "Belgian Pale Ale                        752\n",
      "Belgian Strong Dark Ale                 407\n",
      "Belgian Strong Pale Ale                 474\n",
      "Berliner Weissbier                      548\n",
      "Bière de Champagne / Bière Brut          14\n",
      "Bière de Garde                          162\n",
      "Black & Tan                              29\n",
      "Bock                                    233\n",
      "Braggot                                  61\n",
      "California Common / Steam Beer          132\n",
      "Chile Beer                              105\n",
      "Cream Ale                               286\n",
      "Czech Pilsener                          429\n",
      "Doppelbock                              294\n",
      "Dortmunder / Export Lager               130\n",
      "Dubbel                                  331\n",
      "Dunkelweizen                            219\n",
      "Eisbock                                  37\n",
      "English Barleywine                      282\n",
      "English Bitter                          692\n",
      "English Brown Ale                       409\n",
      "English Dark Mild Ale                   208\n",
      "English India Pale Ale (IPA)            397\n",
      "English Pale Ale                        633\n",
      "English Pale Mild Ale                    77\n",
      "English Porter                          332\n",
      "English Stout                           193\n",
      "English Strong Ale                      141\n",
      "Euro Dark Lager                         169\n",
      "Euro Pale Lager                         566\n",
      "Euro Strong Lager                        91\n",
      "Extra Special / Strong Bitter (ESB)     479\n",
      "Faro                                      6\n",
      "Flanders Oud Bruin                      122\n",
      "Flanders Red Ale                        121\n",
      "Foreign / Export Stout                  146\n",
      "Fruit / Vegetable Beer                 1010\n",
      "German Pilsener                         735\n",
      "Gose                                    337\n",
      "Gueuze                                   54\n",
      "Happoshu                                 32\n",
      "Hefeweizen                              755\n",
      "Herbed / Spiced Beer                    415\n",
      "Irish Dry Stout                         270\n",
      "Irish Red Ale                           249\n",
      "Japanese Rice Lager                      31\n",
      "Kellerbier / Zwickelbier                218\n",
      "Kristalweizen                            59\n",
      "Kvass                                    40\n",
      "Kölsch                                  391\n",
      "Lambic - Fruit                          176\n",
      "Lambic - Unblended                       42\n",
      "Light Lager                             210\n",
      "Low Alcohol Beer                         69\n",
      "Maibock / Helles Bock                   280\n",
      "Milk / Sweet Stout                      548\n",
      "Munich Dunkel Lager                     238\n",
      "Munich Helles Lager                     251\n",
      "Märzen / Oktoberfest                    535\n",
      "Oatmeal Stout                           443\n",
      "Old Ale                                 195\n",
      "Pumpkin Ale                             307\n",
      "Quadrupel (Quad)                        265\n",
      "Rauchbier                               100\n",
      "Roggenbier                               51\n",
      "Russian Imperial Stout                  728\n",
      "Rye Beer                                391\n",
      "Sahti                                    12\n",
      "Saison / Farmhouse Ale                 2225\n",
      "Schwarzbier                             277\n",
      "Scotch Ale / Wee Heavy                  413\n",
      "Scottish Ale                            258\n",
      "Scottish Gruit / Ancient Herbed Ale      70\n",
      "Smoked Beer                             219\n",
      "Tripel                                  516\n",
      "Vienna Lager                            240\n",
      "Weizenbock                              145\n",
      "Wheatwine                                96\n",
      "Winter Warmer                           321\n",
      "Witbier                                 703\n",
      "dtype: int64\n"
     ]
    }
   ],
   "source": [
    "pd.set_option('display.max_rows', 110)\n",
    "labels = df.groupby(['style']).size() \n",
    "print(labels)"
   ]
  },
  {
   "cell_type": "markdown",
   "metadata": {},
   "source": [
    "#### IMBALANCE <br>  This data set poses a problem.  The classes are imbalanced.  Of course, American beer drinkers prefer 'IPA' to 'American Dark Wheat Ale' or 'Sahti', thus there are more ratings for IPA.  The smallest class, 'Faro' holds 6 entries, the largest holds 5552.  "
   ]
  },
  {
   "cell_type": "code",
   "execution_count": 11,
   "metadata": {
    "collapsed": true
   },
   "outputs": [],
   "source": [
    "#pickle the vectorized data:\n",
    "import pickle\n",
    "filename = 'AllBeerVectors'\n",
    "outfile = open(filename,'wb')\n",
    "pickle.dump(df,outfile)\n",
    "outfile.close()"
   ]
  },
  {
   "cell_type": "code",
   "execution_count": 12,
   "metadata": {
    "collapsed": true
   },
   "outputs": [],
   "source": [
    "# retrieve the pickled data:\n",
    "filename = 'AllBeerVectors'\n",
    "infile = open(filename,'rb')\n",
    "df = pickle.load(infile)\n",
    "infile.close()"
   ]
  },
  {
   "cell_type": "code",
   "execution_count": 13,
   "metadata": {},
   "outputs": [
    {
     "name": "stdout",
     "output_type": "stream",
     "text": [
      "accuracy score:  0.423930000678\n"
     ]
    },
    {
     "name": "stderr",
     "output_type": "stream",
     "text": [
      "/Users/brentmarijensen/anaconda3/lib/python3.6/site-packages/sklearn/metrics/classification.py:1143: UndefinedMetricWarning: Precision and F-score are ill-defined and being set to 0.0 in labels with no predicted samples.\n",
      "  'precision', 'predicted', average, warn_for)\n"
     ]
    },
    {
     "name": "stdout",
     "output_type": "stream",
     "text": [
      "                                     precision    recall  f1-score   support\n",
      "\n",
      "                            Altbier       0.83      0.13      0.23        75\n",
      "             American Adjunct Lager       0.45      0.47      0.46       107\n",
      "           American Amber / Red Ale       0.25      0.36      0.30       438\n",
      "         American Amber / Red Lager       1.00      0.16      0.27        63\n",
      "                American Barleywine       0.53      0.39      0.45       160\n",
      "                 American Black Ale       0.83      0.26      0.40       172\n",
      "                American Blonde Ale       0.37      0.23      0.28       216\n",
      "                 American Brown Ale       0.44      0.27      0.34       267\n",
      "            American Dark Wheat Ale       1.00      0.12      0.22        16\n",
      "     American Double / Imperial IPA       0.60      0.44      0.51       795\n",
      " American Double / Imperial Pilsner       1.00      0.05      0.09        42\n",
      "   American Double / Imperial Stout       0.37      0.79      0.50       486\n",
      "                       American IPA       0.34      0.87      0.49      1653\n",
      "               American Malt Liquor       1.00      0.42      0.59        24\n",
      "            American Pale Ale (APA)       0.31      0.37      0.34       860\n",
      "                American Pale Lager       0.46      0.16      0.24       134\n",
      "            American Pale Wheat Ale       0.60      0.17      0.26       162\n",
      "                    American Porter       0.30      0.73      0.43       482\n",
      "                     American Stout       0.37      0.39      0.38       356\n",
      "                American Strong Ale       0.61      0.22      0.33       139\n",
      "                  American Wild Ale       0.48      0.72      0.58       539\n",
      "                      Baltic Porter       1.00      0.13      0.23        77\n",
      "                   Belgian Dark Ale       1.00      0.09      0.17        77\n",
      "                        Belgian IPA       0.73      0.12      0.21        88\n",
      "                   Belgian Pale Ale       0.51      0.27      0.35       202\n",
      "            Belgian Strong Dark Ale       0.34      0.28      0.31       124\n",
      "            Belgian Strong Pale Ale       0.63      0.24      0.35       141\n",
      "                 Berliner Weissbier       0.86      0.29      0.43       176\n",
      "    Bière de Champagne / Bière Brut       0.00      0.00      0.00         6\n",
      "                     Bière de Garde       0.50      0.05      0.09        43\n",
      "                        Black & Tan       1.00      0.12      0.22         8\n",
      "                               Bock       0.57      0.13      0.21        61\n",
      "                            Braggot       1.00      0.05      0.10        19\n",
      "     California Common / Steam Beer       1.00      0.03      0.06        33\n",
      "                         Chile Beer       1.00      0.08      0.15        36\n",
      "                          Cream Ale       1.00      0.14      0.24        86\n",
      "                     Czech Pilsener       0.76      0.28      0.40       127\n",
      "                         Doppelbock       0.90      0.25      0.40       106\n",
      "          Dortmunder / Export Lager       1.00      0.09      0.17        44\n",
      "                             Dubbel       0.89      0.24      0.37       102\n",
      "                       Dunkelweizen       1.00      0.13      0.23        70\n",
      "                            Eisbock       0.00      0.00      0.00        10\n",
      "                 English Barleywine       0.82      0.18      0.29        78\n",
      "                     English Bitter       0.56      0.44      0.50       227\n",
      "                  English Brown Ale       0.75      0.19      0.31       125\n",
      "              English Dark Mild Ale       0.86      0.10      0.18        58\n",
      "       English India Pale Ale (IPA)       0.74      0.11      0.19       128\n",
      "                   English Pale Ale       0.44      0.24      0.31       180\n",
      "              English Pale Mild Ale       0.75      0.18      0.29        17\n",
      "                     English Porter       0.81      0.12      0.21       107\n",
      "                      English Stout       0.73      0.18      0.29        60\n",
      "                 English Strong Ale       0.86      0.16      0.27        38\n",
      "                    Euro Dark Lager       0.83      0.11      0.19        46\n",
      "                    Euro Pale Lager       0.47      0.48      0.48       180\n",
      "                  Euro Strong Lager       1.00      0.10      0.18        41\n",
      "Extra Special / Strong Bitter (ESB)       0.80      0.16      0.27       148\n",
      "                               Faro       0.00      0.00      0.00         2\n",
      "                 Flanders Oud Bruin       1.00      0.15      0.26        34\n",
      "                   Flanders Red Ale       1.00      0.08      0.15        37\n",
      "             Foreign / Export Stout       1.00      0.14      0.24        43\n",
      "             Fruit / Vegetable Beer       0.45      0.46      0.45       300\n",
      "                    German Pilsener       0.41      0.46      0.43       215\n",
      "                               Gose       0.97      0.35      0.52       105\n",
      "                             Gueuze       1.00      0.05      0.10        19\n",
      "                           Happoshu       0.00      0.00      0.00        14\n",
      "                         Hefeweizen       0.62      0.62      0.62       233\n",
      "               Herbed / Spiced Beer       0.54      0.18      0.27       119\n",
      "                    Irish Dry Stout       0.88      0.19      0.31        75\n",
      "                      Irish Red Ale       1.00      0.11      0.20        63\n",
      "                Japanese Rice Lager       0.00      0.00      0.00         9\n",
      "           Kellerbier / Zwickelbier       0.84      0.24      0.37        67\n",
      "                      Kristalweizen       1.00      0.05      0.09        21\n",
      "                              Kvass       1.00      0.40      0.57        10\n",
      "                             Kölsch       0.76      0.23      0.35       111\n",
      "                     Lambic - Fruit       0.90      0.18      0.30        51\n",
      "                 Lambic - Unblended       0.00      0.00      0.00        16\n",
      "                        Light Lager       0.63      0.15      0.25        78\n",
      "                   Low Alcohol Beer       1.00      0.24      0.38        17\n",
      "              Maibock / Helles Bock       0.92      0.31      0.47        77\n",
      "                 Milk / Sweet Stout       0.74      0.14      0.24       161\n",
      "                Munich Dunkel Lager       0.80      0.24      0.37        66\n",
      "                Munich Helles Lager       1.00      0.12      0.21        78\n",
      "               Märzen / Oktoberfest       0.75      0.47      0.58       155\n",
      "                      Oatmeal Stout       0.88      0.22      0.35       133\n",
      "                            Old Ale       1.00      0.26      0.42        61\n",
      "                        Pumpkin Ale       0.82      0.62      0.71        87\n",
      "                   Quadrupel (Quad)       1.00      0.25      0.41        63\n",
      "                          Rauchbier       1.00      0.13      0.23        23\n",
      "                         Roggenbier       0.00      0.00      0.00        22\n",
      "             Russian Imperial Stout       0.60      0.25      0.36       216\n",
      "                           Rye Beer       0.92      0.10      0.19       115\n",
      "                              Sahti       0.00      0.00      0.00         6\n",
      "             Saison / Farmhouse Ale       0.39      0.73      0.51       642\n",
      "                        Schwarzbier       0.84      0.20      0.32        80\n",
      "             Scotch Ale / Wee Heavy       0.80      0.41      0.55       128\n",
      "                       Scottish Ale       1.00      0.14      0.25        70\n",
      "Scottish Gruit / Ancient Herbed Ale       1.00      0.10      0.17        21\n",
      "                        Smoked Beer       0.72      0.29      0.41        62\n",
      "                             Tripel       0.72      0.42      0.53       137\n",
      "                       Vienna Lager       0.79      0.14      0.24        76\n",
      "                         Weizenbock       0.75      0.07      0.13        42\n",
      "                          Wheatwine       1.00      0.23      0.37        22\n",
      "                      Winter Warmer       0.64      0.35      0.45        85\n",
      "                            Witbier       0.77      0.39      0.52       221\n",
      "\n",
      "                          micro avg       0.42      0.42      0.42     14743\n",
      "                          macro avg       0.70      0.23      0.30     14743\n",
      "                       weighted avg       0.57      0.42      0.40     14743\n",
      "\n"
     ]
    }
   ],
   "source": [
    "# NAIVE BAYES PREDICTOR\n",
    "from sklearn.metrics import confusion_matrix, classification_report, f1_score, roc_curve\n",
    "\n",
    "clf = MultinomialNB(alpha=0.01)\n",
    "clf.fit(X_train, y_train)\n",
    "predicted = clf.predict(X_test)\n",
    "print(\"accuracy score: \", np.mean(predicted == y_test))\n",
    "\n",
    "print(classification_report(y_test, predicted))"
   ]
  },
  {
   "cell_type": "markdown",
   "metadata": {},
   "source": [
    "#### NAIVE BAYES PREDICTOR:  <br> Overall precision 0.57, recall 0.42, and F1 0.40.  That's not terrible; it's much better than random guessing, and better than guessing IPA (which would yield precision 1.00, recall 0.13.)  <br> Some classes have very little data, according to the support number.  These often have lower scores, such as American Dark Wheat Ale:     precision 1.00    recall 0.12     F1 0.22     support 16.   Black & Tan: precision   1.00  recall  0.12    F1  0.22    support  8.  Each B&T prediction was correct, but we missed most of them.   Biere Brut got a zero score.  <br>  Classes with more support generally scored better:  American IPA F1 0.49, American Double IPA F1 0.51, Saison F1 0.51.  <br>  Pumpkin ale wins with F1 0.71!  It didn't have a lot of support.  This style is distinct, so perhaps the reviews were consistent and unique from other styles.    \n",
    "#### This chart is hard to look at.  Before I improve the algorithm, I want to reduce classes, so it's easier to measure.   I'll try reducing the number of classes, and I'll try just a few styles."
   ]
  },
  {
   "cell_type": "markdown",
   "metadata": {},
   "source": [
    "## 2 reduce the number of classes\n",
    "#### The number of beer styles is large.  Let's simplify the list:  <br> I'll combine similar styles.  Then I'll eliminate styles with very few reviews."
   ]
  },
  {
   "cell_type": "code",
   "execution_count": 14,
   "metadata": {},
   "outputs": [
    {
     "name": "stdout",
     "output_type": "stream",
     "text": [
      "length 49141\n",
      "Number of styles used: 104\n",
      "\n",
      "Index(['Altbier', 'American Adjunct Lager', 'American Amber / Red Ale',\n",
      "       'American Amber / Red Lager', 'American Barleywine',\n",
      "       'American Black Ale', 'American Blonde Ale', 'American Brown Ale',\n",
      "       'American Dark Wheat Ale', 'American Double / Imperial IPA',\n",
      "       ...\n",
      "       'Scotch Ale / Wee Heavy', 'Scottish Ale',\n",
      "       'Scottish Gruit / Ancient Herbed Ale', 'Smoked Beer', 'Tripel',\n",
      "       'Vienna Lager', 'Weizenbock', 'Wheatwine', 'Winter Warmer', 'Witbier'],\n",
      "      dtype='object', name='style', length=104)\n"
     ]
    }
   ],
   "source": [
    "print('length',len(df))\n",
    "styles = df.groupby(['style']).size() \n",
    "print('Number of styles used:', len(styles))\n",
    "print('')\n",
    "print(styles.index)"
   ]
  },
  {
   "cell_type": "code",
   "execution_count": null,
   "metadata": {
    "collapsed": true
   },
   "outputs": [],
   "source": []
  },
  {
   "cell_type": "code",
   "execution_count": 15,
   "metadata": {},
   "outputs": [
    {
     "name": "stdout",
     "output_type": "stream",
     "text": [
      "Number of styles after combining: 84\n"
     ]
    }
   ],
   "source": [
    "# COMBINE SIMILAR STYLES OF BEER, and eliminate the least common styles\n",
    "\n",
    "slim_df = df \n",
    "slim_df['style'].replace(['Saison / Farmhouse Ale','Bière de Garde'], 'Farm Ale', inplace=True)\n",
    "ipa_list = ['American IPA','English India Pale Ale (IPA)','Belgian IPA']\n",
    "slim_df['style'].replace(ipa_list, 'IPA', inplace=True)\n",
    "slim_df['style'].replace('Scotch Ale / Wee Heavy', 'Scottish Ale', inplace=True)\n",
    "pale_list = ['American Pale Ale (APA)','English Pale Ale','Belgian Pale Ale']\n",
    "slim_df['style'].replace(pale_list, 'Pale Ale', inplace=True)\n",
    "brown_list = ['American Brown Ale','English Brown Ale','English Dark Mild Ale']\n",
    "slim_df['style'].replace(brown_list, 'Brown Ale', inplace=True)\n",
    "stout_list = ['American Stout','English Stout','Milk / Sweet Stout','Oatmeal Stout',]\n",
    "slim_df['style'].replace(stout_list, 'Stout', inplace=True)\n",
    "slim_df['style'].replace('American Double / Imperial Stout', 'Imperial Stout', inplace=True)\n",
    "slim_df['style'].replace('Russian Imperial', 'Imperial Stout', inplace=True)\n",
    "porter_list = ['American Porter','Baltic Porter','English Porter']\n",
    "slim_df['style'].replace(porter_list, 'Porter', inplace=True)\n",
    "lager_list = ['American Amber / Red Lager','Vienna Lager','German Pilsener','Munich Helles Lager']\n",
    "slim_df['style'].replace(lager_list, 'Lager', inplace=True)\n",
    "american_lager_list = ['American Adjunct Lager','American Pale Lager']\n",
    "slim_df['style'].replace(american_lager_list, 'American Lager', inplace=True)\n",
    "slim_df['style'].replace('American Barleywine', 'Barleywine', inplace=True)\n",
    "slim_df['style'].replace('English Barleywine', 'Barleywine', inplace=True)\n",
    "slim_df['style'].replace('English Bitter', 'Bitter', inplace=True)\n",
    "slim_df['style'].replace('Extra Special / Strong Bitter (ESB)', 'Bitter', inplace=True)\n",
    "slim_df['style'].replace(['American Pale Wheat Ale','Witbier'], 'Wheat', inplace=True)\n",
    "\n",
    "styles = slim_df.groupby(['style']).size() \n",
    "print('Number of styles after combining:', len(styles))"
   ]
  },
  {
   "cell_type": "code",
   "execution_count": 16,
   "metadata": {},
   "outputs": [
    {
     "name": "stdout",
     "output_type": "stream",
     "text": [
      "Number of styles after removing uncommon: 51\n",
      "New length 46321\n"
     ]
    }
   ],
   "source": [
    "# remove uncommon styles (in EDA, I found some uncommon styles with fewer than 200 reviews, \n",
    "# such as 'Eisbock', 'Faro', 'Gueuze', 'Happoshu'.  \n",
    "\n",
    "labels = slim_df.groupby(['style']).size() \n",
    "uncommon = labels[labels<200]\n",
    "slim_df = slim_df.loc[~df['style'].isin(uncommon.index)]\n",
    "styles = slim_df.groupby(['style']).size() \n",
    "print('Number of styles after removing uncommon:', len(styles))\n",
    "print('New length',len(slim_df))"
   ]
  },
  {
   "cell_type": "markdown",
   "metadata": {},
   "source": [
    "#### So the number of reviews went down slightly, from 49141 to 46321.  The number of styles dropped by half, from 104 to 51.  Perhaps this will be a manageable amount.  Let's look at the number per class:"
   ]
  },
  {
   "cell_type": "code",
   "execution_count": 17,
   "metadata": {},
   "outputs": [
    {
     "name": "stdout",
     "output_type": "stream",
     "text": [
      "style\n",
      "Altbier                            229\n",
      "American Amber / Red Ale          1424\n",
      "American Black Ale                 556\n",
      "American Blonde Ale                770\n",
      "American Double / Imperial IPA    2677\n",
      "American Lager                     822\n",
      "American Strong Ale                438\n",
      "American Wild Ale                 1769\n",
      "Barleywine                         799\n",
      "Belgian Dark Ale                   205\n",
      "Belgian Strong Dark Ale            407\n",
      "Belgian Strong Pale Ale            474\n",
      "Berliner Weissbier                 548\n",
      "Bitter                            1171\n",
      "Bock                               233\n",
      "Brown Ale                         1494\n",
      "Cream Ale                          286\n",
      "Czech Pilsener                     429\n",
      "Doppelbock                         294\n",
      "Dubbel                             331\n",
      "Dunkelweizen                       219\n",
      "Euro Pale Lager                    566\n",
      "Farm Ale                          2387\n",
      "Fruit / Vegetable Beer            1010\n",
      "Gose                               337\n",
      "Hefeweizen                         755\n",
      "Herbed / Spiced Beer               415\n",
      "IPA                               6268\n",
      "Imperial Stout                    1591\n",
      "Irish Dry Stout                    270\n",
      "Irish Red Ale                      249\n",
      "Kellerbier / Zwickelbier           218\n",
      "Kölsch                             391\n",
      "Lager                             1408\n",
      "Light Lager                        210\n",
      "Maibock / Helles Bock              280\n",
      "Munich Dunkel Lager                238\n",
      "Märzen / Oktoberfest               535\n",
      "Pale Ale                          4164\n",
      "Porter                            2144\n",
      "Pumpkin Ale                        307\n",
      "Quadrupel (Quad)                   265\n",
      "Russian Imperial Stout             728\n",
      "Rye Beer                           391\n",
      "Schwarzbier                        277\n",
      "Scottish Ale                       671\n",
      "Smoked Beer                        219\n",
      "Stout                             2305\n",
      "Tripel                             516\n",
      "Wheat                             1310\n",
      "Winter Warmer                      321\n",
      "dtype: int64\n"
     ]
    }
   ],
   "source": [
    "pd.set_option('display.max_rows', 110)\n",
    "labels = slim_df.groupby(['style']).size() \n",
    "print(labels)"
   ]
  },
  {
   "cell_type": "markdown",
   "metadata": {},
   "source": [
    "#### IMBALANCE <br>  The imbalance problem still exists, but it's improved.  The smallest class holds 205 entries; the largest 6268."
   ]
  },
  {
   "cell_type": "code",
   "execution_count": 18,
   "metadata": {
    "collapsed": true
   },
   "outputs": [],
   "source": [
    "# VECTORIZE THE REVIEWS  ]\n",
    "from sklearn.preprocessing import Normalizer\n",
    "\n",
    "X = slim_df['clean_review'].values\n",
    "y = slim_df['style'].values\n",
    "\n",
    "# vectorize the train data, fit and transform into feature vectors\n",
    "vectorizer = CountVectorizer(analyzer='word')\n",
    "X_counts = vectorizer.fit_transform(X)\n",
    "tfidf = TfidfTransformer()\n",
    "X_train_tfidf = tfidf.fit_transform(X_counts)\n",
    "scaler = Normalizer()\n",
    "X_scaled = scaler.fit_transform(X_train_tfidf)\n",
    "\n",
    "# split into train and test data\n",
    "X_train,X_test,y_train,y_test = train_test_split(X_scaled,y, test_size=0.3, random_state=22)"
   ]
  },
  {
   "cell_type": "code",
   "execution_count": 19,
   "metadata": {},
   "outputs": [
    {
     "name": "stdout",
     "output_type": "stream",
     "text": [
      "accuracy score:  0.49521479456\n",
      "                                precision    recall  f1-score   support\n",
      "\n",
      "                       Altbier       1.00      0.13      0.24        89\n",
      "      American Amber / Red Ale       0.35      0.23      0.27       400\n",
      "            American Black Ale       0.95      0.21      0.35       174\n",
      "           American Blonde Ale       0.67      0.14      0.23       243\n",
      "American Double / Imperial IPA       0.70      0.40      0.51       817\n",
      "                American Lager       0.53      0.51      0.52       251\n",
      "           American Strong Ale       0.89      0.19      0.31       129\n",
      "             American Wild Ale       0.57      0.70      0.63       538\n",
      "                    Barleywine       0.62      0.62      0.62       229\n",
      "              Belgian Dark Ale       1.00      0.12      0.21        68\n",
      "       Belgian Strong Dark Ale       0.45      0.25      0.32       124\n",
      "       Belgian Strong Pale Ale       0.74      0.12      0.21       141\n",
      "            Berliner Weissbier       0.91      0.27      0.42       175\n",
      "                        Bitter       0.59      0.35      0.44       364\n",
      "                          Bock       1.00      0.09      0.16        80\n",
      "                     Brown Ale       0.46      0.46      0.46       428\n",
      "                     Cream Ale       0.75      0.07      0.13        83\n",
      "                Czech Pilsener       1.00      0.20      0.34       129\n",
      "                    Doppelbock       1.00      0.22      0.37        85\n",
      "                        Dubbel       0.88      0.26      0.40        82\n",
      "                  Dunkelweizen       1.00      0.21      0.35        56\n",
      "               Euro Pale Lager       0.63      0.33      0.43       183\n",
      "                      Farm Ale       0.53      0.66      0.59       713\n",
      "        Fruit / Vegetable Beer       0.58      0.42      0.49       310\n",
      "                          Gose       0.97      0.29      0.45        99\n",
      "                    Hefeweizen       0.90      0.59      0.72       237\n",
      "          Herbed / Spiced Beer       0.70      0.15      0.25       127\n",
      "                           IPA       0.43      0.84      0.57      1888\n",
      "                Imperial Stout       0.44      0.65      0.53       464\n",
      "               Irish Dry Stout       1.00      0.13      0.22        71\n",
      "                 Irish Red Ale       0.85      0.14      0.24        80\n",
      "      Kellerbier / Zwickelbier       1.00      0.22      0.36        64\n",
      "                        Kölsch       0.91      0.20      0.33       103\n",
      "                         Lager       0.49      0.57      0.53       418\n",
      "                   Light Lager       0.55      0.11      0.18        55\n",
      "         Maibock / Helles Bock       0.95      0.24      0.39        82\n",
      "           Munich Dunkel Lager       0.81      0.18      0.30        72\n",
      "          Märzen / Oktoberfest       0.92      0.38      0.54       157\n",
      "                      Pale Ale       0.32      0.51      0.39      1205\n",
      "                        Porter       0.44      0.66      0.53       658\n",
      "                   Pumpkin Ale       0.88      0.65      0.75        89\n",
      "              Quadrupel (Quad)       1.00      0.27      0.43        81\n",
      "        Russian Imperial Stout       0.85      0.21      0.33       228\n",
      "                      Rye Beer       0.76      0.12      0.20       110\n",
      "                   Schwarzbier       0.88      0.17      0.29        82\n",
      "                  Scottish Ale       0.75      0.41      0.53       217\n",
      "                   Smoked Beer       0.87      0.19      0.31        70\n",
      "                         Stout       0.53      0.71      0.61       723\n",
      "                        Tripel       0.83      0.40      0.54       156\n",
      "                         Wheat       0.61      0.46      0.52       378\n",
      "                 Winter Warmer       0.66      0.27      0.38        92\n",
      "\n",
      "                     micro avg       0.50      0.50      0.50     13897\n",
      "                     macro avg       0.75      0.33      0.40     13897\n",
      "                  weighted avg       0.59      0.50      0.47     13897\n",
      "\n"
     ]
    }
   ],
   "source": [
    "# NAIVE BAYES PREDICTOR\n",
    "from sklearn.metrics import confusion_matrix, classification_report, f1_score, roc_curve\n",
    "\n",
    "clf = MultinomialNB(alpha = 0.01)\n",
    "clf.fit(X_train, y_train)\n",
    "predicted = clf.predict(X_test)\n",
    "print(\"accuracy score: \", np.mean(predicted == y_test))\n",
    "\n",
    "print(classification_report(y_test, predicted))"
   ]
  },
  {
   "cell_type": "markdown",
   "metadata": {},
   "source": [
    "#### NAIVE BAYES PREDICTOR with 51 classes:  <br>  The results are still hard to look at and understand.  I need to look at fewer classes.  <br>  I note that the scores improved slightly, both overall and individually.  <br>  Overall F1: was 0.40, now 0.47.  IPAs were 0.49 or worse, now combined IPA F1 is 0.57.  Stout F1 score is 0.61, also much better than before.    "
   ]
  },
  {
   "cell_type": "markdown",
   "metadata": {},
   "source": [
    "## 3 classes: IPA, Stout, other\n",
    "#### reduce to 3 styles: IPA, Stout, other.  I'll combine all IPA styles into 1 style.  Same for all stouts.  All other styles will be in the \"Other\" class."
   ]
  },
  {
   "cell_type": "code",
   "execution_count": 20,
   "metadata": {},
   "outputs": [
    {
     "name": "stdout",
     "output_type": "stream",
     "text": [
      "Number of styles after combining: 3\n"
     ]
    }
   ],
   "source": [
    "# 3 STYLES OF BEER: all IPAs: IPA.  all Stouts: Stout.  all others: Other\n",
    "\n",
    "three_styles = df \n",
    "ipa_list = ['American IPA','English India Pale Ale (IPA)','American Double / Imperial IPA',\n",
    "           'Belgian IPA',]\n",
    "three_styles['style'].replace(ipa_list, 'IPA', inplace=True)\n",
    "stout_list = ['American Stout','English Stout','Milk / Sweet Stout','Oatmeal Stout',\n",
    "             'Imperial Stout','American Double / Imperial Stout', ]\n",
    "three_styles['style'].replace(stout_list, 'Stout', inplace=True)\n",
    "other_list = ['Altbier', 'American Adjunct Lager', 'American Amber / Red Ale',\n",
    "       'American Amber / Red Lager', 'American Barleywine',\n",
    "       'American Black Ale', 'American Blonde Ale', 'American Brown Ale',\n",
    "        'American Double / Imperial Pilsner',\n",
    "       'American Pale Ale (APA)', 'American Pale Lager',\n",
    "       'American Pale Wheat Ale', 'American Porter', 'American Stout',\n",
    "       'American Strong Ale', 'American Wild Ale', 'Baltic Porter',\n",
    "       'Belgian Dark Ale', 'Belgian Pale Ale',\n",
    "       'Belgian Strong Dark Ale', 'Belgian Strong Pale Ale',\n",
    "       'Berliner Weissbier', 'Bière de Garde', 'Bock',\n",
    "       'California Common / Steam Beer', 'Chile Beer', 'Cream Ale',\n",
    "       'Czech Pilsener', 'Doppelbock', 'Dortmunder / Export Lager', 'Dubbel',\n",
    "       'Dunkelweizen', 'English Barleywine', 'English Bitter',\n",
    "       'English Brown Ale', 'English Dark Mild Ale',\n",
    "        'English Pale Ale', 'English Porter',\n",
    "        'English Strong Ale', 'Euro Dark Lager',\n",
    "       'Euro Pale Lager', 'Extra Special / Strong Bitter (ESB)',\n",
    "       'Flanders Oud Bruin', 'Flanders Red Ale', 'Foreign / Export Stout',\n",
    "       'Fruit / Vegetable Beer', 'German Pilsener', 'Gose', 'Hefeweizen',\n",
    "       'Herbed / Spiced Beer', 'Irish Dry Stout', 'Irish Red Ale',\n",
    "       'Kellerbier / Zwickelbier', 'Kölsch', 'Lambic - Fruit', 'Light Lager',\n",
    "       'Maibock / Helles Bock', 'Milk / Sweet Stout', 'Munich Dunkel Lager',\n",
    "       'Munich Helles Lager', 'Märzen / Oktoberfest',\n",
    "       'Old Ale', 'Pumpkin Ale', 'Quadrupel (Quad)', 'Rauchbier',\n",
    "       'Russian Imperial Stout', 'Rye Beer', 'Saison / Farmhouse Ale',\n",
    "       'Schwarzbier', 'Scotch Ale / Wee Heavy', 'Scottish Ale', 'Smoked Beer',\n",
    "       'Tripel', 'Vienna Lager', 'Weizenbock', 'Wheatwine', 'Winter Warmer',\n",
    "       'Witbier','American Dark Wheat Ale', 'American Malt Liquor',\n",
    "       'Bière de Champagne / Bière Brut', 'Black & Tan', 'Braggot', 'Eisbock',\n",
    "       'English Pale Mild Ale', 'Euro Strong Lager', 'Faro', 'Gueuze',\n",
    "       'Happoshu', 'Japanese Rice Lager', 'Kristalweizen', 'Kvass',\n",
    "       'Lambic - Unblended', 'Low Alcohol Beer', 'Roggenbier', 'Sahti',\n",
    "       'Scottish Gruit / Ancient Herbed Ale','American Lager','Barleywine','Bitter',\n",
    "        'Brown Ale', 'Farm Ale','Lager','Pale Ale', 'Porter','Wheat']\n",
    "three_styles['style'].replace(other_list, 'Other', inplace=True)\n",
    "\n",
    "styles = three_styles.groupby(['style']).size() \n",
    "print('Number of styles after combining:', len(styles))"
   ]
  },
  {
   "cell_type": "code",
   "execution_count": 21,
   "metadata": {},
   "outputs": [
    {
     "name": "stdout",
     "output_type": "stream",
     "text": [
      "Index(['IPA', 'Other', 'Stout'], dtype='object', name='style')\n"
     ]
    }
   ],
   "source": [
    "print(styles.index)"
   ]
  },
  {
   "cell_type": "markdown",
   "metadata": {},
   "source": [
    "show number of data points per class (do this for all 3 )"
   ]
  },
  {
   "cell_type": "code",
   "execution_count": 22,
   "metadata": {},
   "outputs": [
    {
     "name": "stdout",
     "output_type": "stream",
     "text": [
      "style\n",
      "IPA       8945\n",
      "Other    36300\n",
      "Stout     3896\n",
      "dtype: int64\n"
     ]
    }
   ],
   "source": [
    "labels = three_styles.groupby(['style']).size() \n",
    "print(labels)"
   ]
  },
  {
   "cell_type": "code",
   "execution_count": 23,
   "metadata": {
    "collapsed": true
   },
   "outputs": [],
   "source": [
    "# VECTORIZE THE REVIEWS  \n",
    "from sklearn.preprocessing import Normalizer\n",
    "\n",
    "X = three_styles['clean_review'].values\n",
    "y = three_styles['style'].values\n",
    "\n",
    "# vectorize the train data, fit and transform into feature vectors\n",
    "vectorizer = CountVectorizer(analyzer='word')\n",
    "X_counts = vectorizer.fit_transform(X)\n",
    "tfidf = TfidfTransformer()\n",
    "X_train_tfidf = tfidf.fit_transform(X_counts)\n",
    "scaler = Normalizer()\n",
    "X_scaled = scaler.fit_transform(X_train_tfidf)\n",
    "\n",
    "# split into train and test data\n",
    "X_train,X_test,y_train,y_test = train_test_split(X_scaled,y, test_size=0.3, random_state=22)"
   ]
  },
  {
   "cell_type": "code",
   "execution_count": 28,
   "metadata": {},
   "outputs": [
    {
     "name": "stdout",
     "output_type": "stream",
     "text": [
      "              precision    recall  f1-score   support\n",
      "\n",
      "         IPA       0.84      0.61      0.71      2664\n",
      "       Other       0.87      0.94      0.90     10883\n",
      "       Stout       0.68      0.55      0.61      1196\n",
      "\n",
      "   micro avg       0.85      0.85      0.85     14743\n",
      "   macro avg       0.80      0.70      0.74     14743\n",
      "weighted avg       0.85      0.85      0.84     14743\n",
      "\n"
     ]
    }
   ],
   "source": [
    "# NAIVE BAYES PREDICTOR\n",
    "from sklearn.metrics import confusion_matrix, classification_report, f1_score, roc_curve\n",
    "\n",
    "clf = MultinomialNB(alpha = 0.01)\n",
    "clf.fit(X_train, y_train)\n",
    "predicted = clf.predict(X_test)\n",
    "\n",
    "print(classification_report(y_test, predicted))"
   ]
  },
  {
   "cell_type": "markdown",
   "metadata": {},
   "source": [
    "#### This chart is easy to evaluate, because I can see all the classes in one window.  <br>  Overall F1 improved again!  So did IPA's F1.  Stout F1 score remained the same.  <br>  I improved the baseline by reducing number of classes.  I hope to improve the scores much more.  I'll eliminate imbalance, use feature engineering, tune the algorithm, and try different algorithms.  In the end, I hope that my algorithm will predict style from text with accuracy.  Perhaps I'll try to use the improved algorithm on the entire set of classes.  "
   ]
  },
  {
   "cell_type": "code",
   "execution_count": null,
   "metadata": {
    "collapsed": true
   },
   "outputs": [],
   "source": []
  },
  {
   "cell_type": "code",
   "execution_count": null,
   "metadata": {
    "collapsed": true
   },
   "outputs": [],
   "source": []
  }
 ],
 "metadata": {
  "kernelspec": {
   "display_name": "Python 3",
   "language": "python",
   "name": "python3"
  },
  "language_info": {
   "codemirror_mode": {
    "name": "ipython",
    "version": 3
   },
   "file_extension": ".py",
   "mimetype": "text/x-python",
   "name": "python",
   "nbconvert_exporter": "python",
   "pygments_lexer": "ipython3",
   "version": "3.6.8"
  }
 },
 "nbformat": 4,
 "nbformat_minor": 2
}
